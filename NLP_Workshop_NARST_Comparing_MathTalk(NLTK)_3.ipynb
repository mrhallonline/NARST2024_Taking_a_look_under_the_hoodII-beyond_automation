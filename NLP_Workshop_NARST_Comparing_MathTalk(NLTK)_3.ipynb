{
  "cells": [
    {
      "cell_type": "markdown",
      "metadata": {
        "id": "view-in-github",
        "colab_type": "text"
      },
      "source": [
        "<a href=\"https://colab.research.google.com/github/mrhallonline/NARST2024_Taking_a_look_under_the_hoodII-beyond_automation/blob/main/NLP_Workshop_NARST_Comparing_MathTalk(NLTK)_3.ipynb\" target=\"_parent\"><img src=\"https://colab.research.google.com/assets/colab-badge.svg\" alt=\"Open In Colab\"/></a>"
      ]
    },
    {
      "cell_type": "markdown",
      "metadata": {
        "id": "84MV9UII4dx3"
      },
      "source": [
        "# 1. Installing NLTK and Python supporting dependencies, packages and libraries"
      ]
    },
    {
      "cell_type": "code",
      "execution_count": null,
      "metadata": {
        "id": "XI7nACAi40E3",
        "colab": {
          "base_uri": "https://localhost:8080/"
        },
        "outputId": "4a82c9f8-aabe-4bb7-d15f-8bf4cc66f7a4"
      },
      "outputs": [
        {
          "output_type": "stream",
          "name": "stdout",
          "text": [
            "Requirement already satisfied: nltk in /usr/local/lib/python3.10/dist-packages (3.8.1)\n",
            "Requirement already satisfied: click in /usr/local/lib/python3.10/dist-packages (from nltk) (8.1.7)\n",
            "Requirement already satisfied: joblib in /usr/local/lib/python3.10/dist-packages (from nltk) (1.3.2)\n",
            "Requirement already satisfied: regex>=2021.8.3 in /usr/local/lib/python3.10/dist-packages (from nltk) (2023.12.25)\n",
            "Requirement already satisfied: tqdm in /usr/local/lib/python3.10/dist-packages (from nltk) (4.66.2)\n",
            "Requirement already satisfied: requests in /usr/local/lib/python3.10/dist-packages (2.31.0)\n",
            "Requirement already satisfied: charset-normalizer<4,>=2 in /usr/local/lib/python3.10/dist-packages (from requests) (3.3.2)\n",
            "Requirement already satisfied: idna<4,>=2.5 in /usr/local/lib/python3.10/dist-packages (from requests) (3.6)\n",
            "Requirement already satisfied: urllib3<3,>=1.21.1 in /usr/local/lib/python3.10/dist-packages (from requests) (2.0.7)\n",
            "Requirement already satisfied: certifi>=2017.4.17 in /usr/local/lib/python3.10/dist-packages (from requests) (2024.2.2)\n",
            "Requirement already satisfied: matplotlib in /usr/local/lib/python3.10/dist-packages (3.7.1)\n",
            "Requirement already satisfied: contourpy>=1.0.1 in /usr/local/lib/python3.10/dist-packages (from matplotlib) (1.2.0)\n",
            "Requirement already satisfied: cycler>=0.10 in /usr/local/lib/python3.10/dist-packages (from matplotlib) (0.12.1)\n",
            "Requirement already satisfied: fonttools>=4.22.0 in /usr/local/lib/python3.10/dist-packages (from matplotlib) (4.49.0)\n",
            "Requirement already satisfied: kiwisolver>=1.0.1 in /usr/local/lib/python3.10/dist-packages (from matplotlib) (1.4.5)\n",
            "Requirement already satisfied: numpy>=1.20 in /usr/local/lib/python3.10/dist-packages (from matplotlib) (1.25.2)\n",
            "Requirement already satisfied: packaging>=20.0 in /usr/local/lib/python3.10/dist-packages (from matplotlib) (23.2)\n",
            "Requirement already satisfied: pillow>=6.2.0 in /usr/local/lib/python3.10/dist-packages (from matplotlib) (9.4.0)\n",
            "Requirement already satisfied: pyparsing>=2.3.1 in /usr/local/lib/python3.10/dist-packages (from matplotlib) (3.1.1)\n",
            "Requirement already satisfied: python-dateutil>=2.7 in /usr/local/lib/python3.10/dist-packages (from matplotlib) (2.8.2)\n",
            "Requirement already satisfied: six>=1.5 in /usr/local/lib/python3.10/dist-packages (from python-dateutil>=2.7->matplotlib) (1.16.0)\n"
          ]
        }
      ],
      "source": [
        "# Clicking the code cell play button below will download and install all the following libraries\n",
        "# This normally takes around ~1 minute and each step will show up in the output below.\n",
        "%pip install nltk\n",
        "%pip install requests\n",
        "%pip install matplotlib\n"
      ]
    },
    {
      "cell_type": "markdown",
      "source": [
        "\n",
        "\n",
        "```\n",
        "# This is formatted as code\n",
        "```\n",
        "\n",
        "# 2. Import All Text files locally"
      ],
      "metadata": {
        "id": "JWbF37ut6gdu"
      }
    },
    {
      "cell_type": "code",
      "source": [
        "import requests\n",
        "# yellowGroup = https://drive.google.com/file/d/1ru4cZuynsZuG8Wne-omg06lLDgexQuZA/view?usp=drive_link\n",
        "# redGroup = https://drive.google.com/file/d/1DliCzf3tUydb8HXpUqnsggP5LtUYKyrI/view?usp=drive_link\n",
        "# purpleGroup = https://drive.google.com/file/d/1rM74ceywb_BPaqt-CJlkhT7MQ45vlyiJ/view?usp=sharing\n",
        "# orangeGroup = https://drive.google.com/file/d/1E-cGPSzM9Dyqd95KhdVbRGSx_E4CjosO/view?usp=sharing\n",
        "# greenGroup = https://drive.google.com/file/d/1GPkZCkbgAOplckKY_VvIKfeP7ShxJ8Sz/view?usp=sharing\n",
        "# fuchsiaGroup = https://drive.google.com/file/d/1JnM-tMt-1w_YDaGkeNJmRZL6Ld_6A3oF/view?usp=sharing\n",
        "# blueGroup = https://drive.google.com/file/d/1XzUjN7C0U_U9PSj4OTd-80niwRjXKI4l/view?usp=drive_link\n",
        "\n",
        "# Define a list of file IDs from Google Drive and corresponding local filenames\n",
        "files_info = [\n",
        "    {\"id\": \"1ru4cZuynsZuG8Wne-omg06lLDgexQuZA\", \"local_name\": \"mathTalk_file1.txt\"},\n",
        "    {\"id\": \"1DliCzf3tUydb8HXpUqnsggP5LtUYKyrI\", \"local_name\": \"mathTalk_file2.txt\"},\n",
        "    {\"id\": \"1rM74ceywb_BPaqt-CJlkhT7MQ45vlyiJ\", \"local_name\": \"mathTalk_file3.txt\"},\n",
        "    {\"id\": \"1E-cGPSzM9Dyqd95KhdVbRGSx_E4CjosO\", \"local_name\": \"mathTalk_file4.txt\"},\n",
        "    {\"id\": \"1GPkZCkbgAOplckKY_VvIKfeP7ShxJ8Sz\", \"local_name\": \"mathTalk_file5.txt\"},\n",
        "    {\"id\": \"1JnM-tMt-1w_YDaGkeNJmRZL6Ld_6A3oF\", \"local_name\": \"mathTalk_file6.txt\"},\n",
        "    {\"id\": \"1XzUjN7C0U_U9PSj4OTd-80niwRjXKI4l\", \"local_name\": \"mathTalk_file7.txt\"}\n",
        "]\n",
        "\n",
        "for file_info in files_info:\n",
        "    # Construct the download URL\n",
        "    download_url = f\"https://docs.google.com/uc?export=download&id={file_info['id']}\"\n",
        "\n",
        "    # Send a GET request to the download URL\n",
        "    response = requests.get(download_url)\n",
        "\n",
        "    # Check if the request was successful\n",
        "    if response.status_code == 200:\n",
        "        # Write the content to a local file as text\n",
        "        with open(file_info['local_name'], \"w\", encoding='utf-8') as f:\n",
        "            f.write(response.text)\n",
        "        print(f\"File downloaded and saved as {file_info['local_name']}\")\n",
        "    else:\n",
        "        print(f\"Failed to download the file with ID {file_info['id']}. Check the URL and permissions.\")\n"
      ],
      "metadata": {
        "colab": {
          "base_uri": "https://localhost:8080/"
        },
        "id": "j_ovCIyP6j6-",
        "outputId": "7fc8e500-fa2c-43a7-cf4e-b844c002ceb4"
      },
      "execution_count": 2,
      "outputs": [
        {
          "output_type": "stream",
          "name": "stdout",
          "text": [
            "File downloaded and saved as mathTalk_file1.txt\n",
            "File downloaded and saved as mathTalk_file2.txt\n",
            "File downloaded and saved as mathTalk_file3.txt\n",
            "File downloaded and saved as mathTalk_file4.txt\n",
            "File downloaded and saved as mathTalk_file5.txt\n",
            "File downloaded and saved as mathTalk_file6.txt\n",
            "File downloaded and saved as mathTalk_file7.txt\n"
          ]
        }
      ]
    },
    {
      "cell_type": "markdown",
      "metadata": {
        "id": "OnajAU87ukO9"
      },
      "source": [
        "# 3. All in One Combined text import and tokenization Normalizer\n",
        "Make seven sets of data for comparing groups using a function\n",
        "\n",
        "\n",
        "\n",
        "\n",
        "\n",
        "\n",
        "\n"
      ]
    },
    {
      "cell_type": "code",
      "source": [
        "import os\n",
        "import nltk\n",
        "import string\n",
        "from nltk.corpus import stopwords\n",
        "from nltk.tokenize import word_tokenize, sent_tokenize\n",
        "\n",
        "nltk.download('punkt')\n",
        "nltk.download('stopwords')\n",
        "\n",
        "# Function to process a file\n",
        "def process_file(filename, output_filename):\n",
        "    results = {}  # Dictionary to store results\n",
        "    try:\n",
        "        # Open and read the text file\n",
        "        with open(filename, 'rt', encoding='utf-8', errors='replace') as file:\n",
        "            raw_text = file.read()\n",
        "\n",
        "        # Sentence tokenization from raw text\n",
        "        sent_tokens = sent_tokenize(raw_text)\n",
        "\n",
        "        # Containers for cleaned data\n",
        "        cleaned_sent_tokens = []\n",
        "        removed_elements = {'punctuation': [], 'non_alpha': [], 'stop_words': []}\n",
        "\n",
        "        # Process each sentence\n",
        "        for sentence in sent_tokens:\n",
        "            # Convert to lower case\n",
        "            words = word_tokenize(sentence.lower())\n",
        "\n",
        "            # Remove non-alphabetic tokens and filter out stop words\n",
        "            cleaned_words = []\n",
        "            for word in words:\n",
        "                if word.isalpha():\n",
        "                    if word not in stopwords.words('english'):\n",
        "                        cleaned_words.append(word)\n",
        "                    else:\n",
        "                        removed_elements['stop_words'].append(word)\n",
        "                else:\n",
        "                    removed_elements['non_alpha'].append(word)\n",
        "                    if any(char in string.punctuation for char in word):\n",
        "                        removed_elements['punctuation'].append(word)\n",
        "\n",
        "            # Join the cleaned words back into a sentence\n",
        "            cleaned_sentence = ' '.join(cleaned_words)\n",
        "            cleaned_sent_tokens.append(cleaned_sentence)\n",
        "\n",
        "        # Write the cleaned sentences to the file\n",
        "        os.makedirs(os.path.dirname(output_filename), exist_ok=True)\n",
        "        with open(output_filename, 'w', encoding='utf-8') as file:\n",
        "            for sentence in cleaned_sent_tokens:\n",
        "                file.write(sentence + '\\n')\n",
        "\n",
        "        # Generate word tokens and text objects from cleaned sentences\n",
        "        cleaned_text = ' '.join(cleaned_sent_tokens)\n",
        "        word_tokens = word_tokenize(cleaned_text)\n",
        "        text_objects = nltk.Text(word_tokens)\n",
        "\n",
        "        # Store results in the dictionary\n",
        "        file_key = os.path.basename(filename).split('.')[0]  # Use filename without extension as key\n",
        "        results[file_key] = {\n",
        "            'sentence_tokens': sent_tokens,  # Include original sentence tokens\n",
        "            'cleaned_sentences': cleaned_sent_tokens,\n",
        "            'word_tokens': word_tokens,\n",
        "            'text_objects': text_objects,\n",
        "            'removed_elements': removed_elements\n",
        "        }\n",
        "\n",
        "        return results\n",
        "\n",
        "    except FileNotFoundError:\n",
        "        print(f\"Error: The file '{filename}' was not found. Check the file path.\")\n",
        "        return {}\n",
        "    except Exception as e:\n",
        "        print(f\"An error occurred: {e}\")\n",
        "        return {}\n",
        "\n",
        "# List of file paths and their output paths\n",
        "files_to_process = [\n",
        "    # Update these paths to match your actual file locations\n",
        "    ('/content/mathTalk_file1.txt', 'output/normalized_mathTalk_file1.txt'),\n",
        "    ('/content/mathTalk_file2.txt', 'output/normalized_mathTalk_file2.txt'),\n",
        "    ('/content/mathTalk_file3.txt', 'output/normalized_mathTalk_file3.txt'),\n",
        "    ('/content/mathTalk_file4.txt', 'output/normalized_mathTalk_file4.txt'),\n",
        "    ('/content/mathTalk_file5.txt', 'output/normalized_mathTalk_file5.txt'),\n",
        "    ('/content/mathTalk_file6.txt', 'output/normalized_mathTalk_file6.txt'),\n",
        "    ('/content/mathTalk_file7.txt', 'output/normalized_mathTalk_file7.txt'),\n",
        "    # Add other files here...\n",
        "]\n",
        "\n",
        "# Dictionary to hold all results\n",
        "all_results = {}\n",
        "\n",
        "# Process each file\n",
        "for filename, output_filename in files_to_process:\n",
        "    results = process_file(filename, output_filename)\n",
        "    all_results.update(results)\n",
        "\n",
        "# Now, `all_results` contains distinct names (keys) for each file and its respective outputs below we will name them for further usage.\n"
      ],
      "metadata": {
        "colab": {
          "base_uri": "https://localhost:8080/"
        },
        "id": "il2cCs2Pk8IL",
        "outputId": "ec4b3bdc-afd7-43f5-e40e-207a3c15b807"
      },
      "execution_count": 20,
      "outputs": [
        {
          "output_type": "stream",
          "name": "stderr",
          "text": [
            "[nltk_data] Downloading package punkt to /root/nltk_data...\n",
            "[nltk_data]   Package punkt is already up-to-date!\n",
            "[nltk_data] Downloading package stopwords to /root/nltk_data...\n",
            "[nltk_data]   Package stopwords is already up-to-date!\n"
          ]
        }
      ]
    },
    {
      "cell_type": "markdown",
      "source": [
        "##4. Naming Text Corpora for further investigation\n"
      ],
      "metadata": {
        "id": "fDye_kGkh4J9"
      }
    },
    {
      "cell_type": "code",
      "source": [
        "# @title\n",
        "# place word tokens in variables\n",
        "word_tokens_corpus1 = all_results['mathTalk_file1']['word_tokens']\n",
        "word_tokens_corpus2 = all_results['mathTalk_file2']['word_tokens']\n",
        "word_tokens_corpus3 = all_results['mathTalk_file3']['word_tokens']\n",
        "word_tokens_corpus4 = all_results['mathTalk_file4']['word_tokens']\n",
        "word_tokens_corpus5 = all_results['mathTalk_file5']['word_tokens']\n",
        "word_tokens_corpus6 = all_results['mathTalk_file6']['word_tokens']\n",
        "word_tokens_corpus7 = all_results['mathTalk_file7']['word_tokens']\n",
        "\n",
        "# place cleaned sentence tokens in variables\n",
        "cleaned_sentences_corpus1 = all_results['mathTalk_file1']['cleaned_sentences']\n",
        "cleaned_sentences_corpus2 = all_results['mathTalk_file2']['cleaned_sentences']\n",
        "cleaned_sentences_corpus3 = all_results['mathTalk_file3']['cleaned_sentences']\n",
        "cleaned_sentences_corpus4 = all_results['mathTalk_file4']['cleaned_sentences']\n",
        "cleaned_sentences_corpus5 = all_results['mathTalk_file5']['cleaned_sentences']\n",
        "cleaned_sentences_corpus6 = all_results['mathTalk_file6']['cleaned_sentences']\n",
        "cleaned_sentences_corpus7 = all_results['mathTalk_file7']['cleaned_sentences']\n",
        "\n",
        "# place NLTK text_objects in variables\n",
        "text_objects_corpus1 = all_results['mathTalk_file1']['text_objects']\n",
        "text_objects_corpus2 = all_results['mathTalk_file2']['text_objects']\n",
        "text_objects_corpus3 = all_results['mathTalk_file3']['text_objects']\n",
        "text_objects_corpus4 = all_results['mathTalk_file4']['text_objects']\n",
        "text_objects_corpus5 = all_results['mathTalk_file5']['text_objects']\n",
        "text_objects_corpus6 = all_results['mathTalk_file6']['text_objects']\n",
        "text_objects_corpus7 = all_results['mathTalk_file7']['text_objects']\n",
        "\n",
        "# place sentences in variables\n",
        "sentence_tokens_corpus1 = all_results['mathTalk_file1']['sentence_tokens']\n",
        "sentence_tokens_corpus2 = all_results['mathTalk_file2']['sentence_tokens']\n",
        "sentence_tokens_corpus3 = all_results['mathTalk_file3']['sentence_tokens']\n",
        "sentence_tokens_corpus4 = all_results['mathTalk_file4']['sentence_tokens']\n",
        "sentence_tokens_corpus5 = all_results['mathTalk_file5']['sentence_tokens']\n",
        "sentence_tokens_corpus6 = all_results['mathTalk_file6']['sentence_tokens']\n",
        "sentence_tokens_corpus7 = all_results['mathTalk_file7']['sentence_tokens']\n",
        "\n",
        "print(word_tokens_corpus1)\n",
        "print(len(word_tokens_corpus1))\n",
        "print(cleaned_sentences_corpus1)\n",
        "print(text_objects_corpus1)\n",
        "print(len(text_objects_corpus1))\n",
        "print(sentence_tokens_corpus1)"
      ],
      "metadata": {
        "colab": {
          "base_uri": "https://localhost:8080/"
        },
        "id": "tL0ruKVcr2Hn",
        "outputId": "28922e21-6803-4477-efa5-ccff501df5eb"
      },
      "execution_count": 21,
      "outputs": [
        {
          "output_type": "stream",
          "name": "stdout",
          "text": [
            "['yes', 'review', 'little', 'bit', 'want', 'like', 'tea', 'yeah', 'well', 'know', 'warm', 'pose', 'yeah', 'water', 'bottle', 'fill', 'fill', 'thank', 'oh', 'nose', 'itchy', 'feel', 'like', 'going', 'sneeze', 'yet', 'level', 'know', 'say', 'want', 'would', 'add', 'since', 'know', 'beard', 'gon', 'na', 'give', 'one', 'seriously', 'go', 'ahead', 'check', 'see', 'highest', 'value', 'positive', 'negative', 'know', 'midline', 'must', 'able', 'connect', 'equation', 'well', 'times', 'cosine', 'tells', 'midline', 'know', 'work', 'point', 'highest', 'point', 'say', 'sine', 'could', 'say', 'sinusoidal', 'functions', 'would', 'cover', 'means', 'sine', 'cosine', 'sure', 'going', 'want', 'use', 'word', 'lot', 'also', 'attributed', 'since', 'know', 'period', 'go', 'right', 'period', 'find', 'another', 'alright', 'two', 'points', 'right', 'yes', 'alright', 'thank', 'idea', 'think', 'taking', 'half', 'half', 'period', 'right', 'would', 'six', 'three', 'took', 'three', 'added', 'basically', 'thought', 'side', 'reflected', 'across', 'side', 'part', 'zero', 'would', 'negative', 'know', 'probably', 'taking', 'quiz', 'right', 'spring', 'break', 'prior', 'taking', 'quiz', 'like', 'friday', 'taken', 'one', 'fake', 'quizzes', 'took', 'way', 'answered', 'things', 'class', 'tuesday', 'want', 'give', 'back', 'original', 'fake', 'quiz', 'along', 'real', 'quiz', 'grade', 'fake', 'quiz', 'giving', 'back', 'see', 'second', 'question', 'sorry', 'third', 'question', 'quiz', 'back', 'side', 'similar', 'fake', 'quiz', 'might', 'want', 'compare', 'yesterday', 'went', 'went', 'like', 'stage', 'time', 'great', 'people', 'showed', 'think', 'warning', 'used', 'formula', 'find', 'added', 'given', 'lengths', 'would', 'also', 'let', 'ask', 'think', 'anything', 'different', 'guys', 'think', 'get', 'number', 'different', 'numbers', 'get', 'different', 'think', 'um', 'know', 'assume', 'like', 'think', 'radius', 'like', 'difference', 'circumference', 'would', 'like', 'well', 'like', 'well', 'circle', 'created', 'little', 'lengths', 'got', 'back', 'probably', 'little', 'bit', 'accurate', 'us', 'using', 'string', 'trying', 'wrap', 'around', 'many', 'fit', 'around', 'good', 'assume', 'stuck', 'trying', 'figure', 'convert', 'maybe', 'use', 'example', 'like', 'angle', 'degrees', 'think', 'use', 'one', 'see', 'figure', 'get', 'degrees', 'like', 'little', 'long', 'little', 'yeah', 'actually', 'exactly', 'asking', 'right', 'though', 'long', 'one', 'see', 'six', 'measurements', 'real', 'really', 'length', 'least', 'rounded', 'two', 'decimal', 'places', 'length', 'pretty', 'accurate', 'part', 'b', 'want', 'find', 'proportion', 'radius', 'fits', 'extra', 'part', 'asking', 'find', 'ratio', 'data', 'round', 'two', 'decimal', 'places', 'make', 'work', 'part', 'b', 'approximately', 'radii', 'look', 'around', 'frame', 'circle', 'think', 'yes', 'kenny', 'shown', 'angle', 'actually', 'given', 'measure', 'exactly', 'mean', 'one', 'radian', 'else', 'exactly', 'divide', 'saying', 'seems', 'like', 'degrees', 'might', 'half', 'anyone', 'agree', 'idea', 'okay', 'mattel', 'think', 'thing', 'divide', 'anyone', 'different', 'form', 'pi', 'equal', 'x', 'wanted', 'figure', 'radians', 'angle', 'radiance', 'put', 'maybe', 'couple', 'angles', 'convert', 'radians', 'feel', 'completed', 'tuesday', 'sleeping', 'hate', 'shake', 'first', 'box', 'need', 'time', 'like', 'always', 'sleepy', 'class', 'even', 'last', 'night', 'even', 'know', 'came', 'back', 'like', 'worksheet', 'done', 'naviance', 'like', 'oh', 'spring', 'break', 'like', 'sunday', 'like', 'oh', 'yeah', 'supposed', 'yeah', 'like', 'literally', 'spring', 'break', 'work', 'job', 'like', 'working', 'spring', 'break', 'hung', 'like', 'twice', 'went', 'prom', 'dress', 'shopping', 'went', 'prom', 'right', 'know', 'kim', 'going', 'kim', 'going', 'know', 'forgot', 'ask', 'wait', 'kim', 'maura', 'ike', 'maura', 'talking', 'different', 'kim', 'like', 'yeah', 'like', 'going', 'like', 'like', 'oh', 'like', 'dress', 'stuff', 'like', 'wonder', 'look', 'like', 'dress', 'get', 'uh', 'ca', 'even', 'picture', 'also', 'goes', 'like', 'totally', 'wear', 'like', 'suit', 'like', 'lady', 'suit', 'know', 'talking', 'yeah', 'would', 'require', 'calculator', 'yeah', 'application', 'due', 'trying', 'get', 'like', 'sic', 'program', 'like', 'like', 'abridge', 'program', 'earn', 'college', 'credits', 'yeah', 'start', 'like', 'next', 'year', 'fall', 'applications', 'due', 'like', 'next', 'friday', 'even', 'started', 'started', 'writing', 'essay', 'much', 'happening', 'gon', 'na', 'go', 'crazy', 'dead', 'end', 'week', 'think', 'going', 'much', 'fun', 'want', 'next', 'class', 'excited', 'think', 'gon', 'na', 'like', 'watch', 'gon', 'na', 'connect', 'clips', 'becky', 'see', 'mine', 'see', 'clothes', 'time', 'units', 'going', 'like', 'degrees', 'squared', 'make', 'proportion', 'understand', 'proportion', 'yeah', 'ahhh', 'feel', 'interesting', 'moved', 'like', 'knew', 'part', 'knew', 'part', 'sure', 'going', 'volunteer', 'going', 'like', 'dead', 'yes', 'right', 'forgot', 'part', 'oh', 'least', 'like', 'solid', 'c', 'rest', 'actually', 'happy', 'volunteering', 'oh', 'sunday', 'oh', 'sunday', 'okay', 'weekend', 'friday', 'latino', 'fest', 'might', 'go', 'island', 'touch', 'jade', 'debut', 'saturday', 'prom', 'sunday', 'weekend', 'good', 'turn', 'would', 'like', 'answer', 'wanted', 'wanted', 'figure', 'use', 'want', 'break', 'oh', 'week', 'going', 'hell', 'testing', 'weekend', 'going', 'like', 'weekend', 'going', 'charged', 'much', 'going', 'happening', 'walk', 'around', 'like', 'zombie', 'friday', 'really', 'tired', 'waking', 'really', 'early', 'yesterday', 'wake', 'like', 'yes', 'today', 'woke', 'girl', 'wake', 'every', 'day', 'get', 'driven', 'take', 'bus', 'thing', 'sleeping', 'like', 'oh', 'go', 'sleep', 'late', 'wake', 'earlier', 'see', 'go', 'sleep', 'like', 'oh', 'early', 'yesterday', 'could', 'fall', 'asleep', 'like', 'thought', 'tired', 'go', 'sleep', 'like', 'take', 'like', 'woke', 'really', 'late', 'work', 'supposed', 'school', 'like', 'need', 'go', 'like', 'two', 'seconds', 'day', 'yeah', 'like', 'arm', 'like', 'kind', 'hurt', 'yesterday', 'ca', 'like', 'lift', 'like', 'never', 'yeah', 'bye']\n",
            "687\n",
            "['yes', 'review little bit', 'want like', 'tea', 'yeah', '', 'well know', 'warm pose', 'yeah', 'water bottle fill', 'fill', 'thank', 'oh nose', 'itchy feel like going sneeze yet', 'level', 'know', 'say want would add since know beard gon na', 'give one', 'seriously go ahead check', 'see highest value positive negative', 'know midline must able connect equation well', 'times cosine tells midline', 'know work point highest point', 'say sine could say sinusoidal functions would cover', 'means sine cosine', 'sure going want use word lot', 'also attributed since know period go right period find another', 'alright two points right', 'yes', 'alright thank', 'idea think taking half half period right', 'would six', 'three', 'took three added', 'basically thought side', 'reflected across side part zero would negative', 'know probably taking quiz right spring break', 'prior taking quiz like friday taken one fake quizzes took way answered things class tuesday', 'want give back original fake quiz along real quiz', 'grade fake quiz giving back see', 'second question sorry third question quiz back side similar fake quiz might want compare', 'yesterday went went like stage time great', 'people showed', 'think warning', 'used formula find', 'added given lengths would also', '', 'let ask think anything', 'different', 'guys think', 'get number different numbers', '', 'get different', 'think', 'um know assume like', 'think radius like difference circumference would like', 'well like', 'well circle created little lengths got back probably little bit accurate us using string trying wrap around', 'many fit around', 'good', 'assume', 'stuck trying figure convert', 'maybe use example like angle degrees', 'think use one see figure get degrees', 'like little long little yeah', 'actually exactly', 'asking right though', 'long', 'one', 'see six', 'measurements real really length least rounded two decimal places length', 'pretty accurate', 'part b want find proportion radius fits extra part', '', 'asking find ratio data round two decimal places make work part b approximately radii look around frame circle', 'think', 'yes kenny', 'shown angle actually given', 'measure exactly', 'mean one radian else exactly', 'divide', 'saying', 'seems like degrees might half', 'anyone agree idea', 'okay mattel think thing divide', 'anyone different form', 'pi equal x wanted figure radians', 'angle radiance put', 'maybe couple angles', 'convert radians feel', 'completed tuesday', 'sleeping', 'hate shake first box', 'need time', 'like always sleepy class', 'even last night', 'even know', 'came back', 'like worksheet', 'done naviance', '', 'like oh spring break', 'like sunday like oh yeah supposed', 'yeah', 'like literally spring break work', 'job', 'like working spring break', 'hung like twice', 'went prom dress shopping', 'went prom right', '', 'know kim going', 'kim going', 'know', 'forgot ask', 'wait kim', 'maura', 'ike maura', '', '', 'talking different kim', 'like', 'yeah like going', 'like', 'like oh like dress stuff', 'like', 'wonder look like dress', 'get uh', 'ca even picture', 'also goes like', 'totally wear like suit', 'like lady suit', 'know talking', 'yeah', 'would require calculator', 'yeah', 'application due', 'trying get like sic program like like abridge program', 'earn college credits', 'yeah', 'start like next year fall', 'applications due like next friday', 'even started', 'started writing essay', '', 'much happening', 'gon na go crazy', 'dead end week', 'think going much fun', 'want', '', 'next class', 'excited', 'think gon na like watch', 'gon na connect clips', 'becky see', 'mine', 'see clothes', 'time', 'units going like degrees squared', 'make proportion understand proportion', 'yeah', 'ahhh', '', 'feel interesting moved', 'like knew part knew part sure', 'going volunteer going like dead', 'yes', 'right', 'forgot part', 'oh', '', 'least like solid c rest', 'actually happy volunteering', 'oh sunday', 'oh sunday', 'okay weekend friday latino fest', 'might go island touch jade debut', 'saturday prom', 'sunday', 'weekend', 'good turn', 'would like answer', 'wanted', '', 'wanted', 'figure', '', 'use', 'want break', 'oh', '', 'week going hell', 'testing', 'weekend going like', 'weekend going charged', 'much going', 'happening', 'walk around like zombie friday', 'really tired waking really early', '', 'yesterday wake like', 'yes', 'today woke', 'girl wake every day', 'get driven', 'take bus', 'thing sleeping', 'like oh go sleep late wake earlier', 'see go sleep like', 'oh early', 'yesterday could fall asleep', 'like', 'thought tired', 'go sleep like', 'take like', 'woke really late', 'work', '', 'supposed school', 'like', 'need go', 'like two seconds day', 'yeah', 'like arm like kind hurt', 'yesterday ca like lift', 'like', 'never', 'yeah', 'bye']\n",
            "<Text: yes review little bit want like tea yeah...>\n",
            "687\n",
            "['Yes!', 'Can I review for a little bit?', 'Did you want to do it like during...', \"It's a tea.\", 'OK.\\nYeah.', 'Or?', 'Well, just do the, you know what?', 'Do the warm up pose.', 'Yeah.', 'Do you have a water bottle I can fill up?', \"I'll fill it up for you.\", 'Thank you.', 'Oh my nose.', \"It's so itchy and I feel like I'm going to sneeze but it's not there yet.\", \"It's not at that level.\", 'what you know about it.', \"Say you want here, you would add this to 12,\\nsince you know that the beard's gonna be 12.\", \"I'll give you this one.\", 'Seriously, go ahead and check.', 'We see that our highest y value is positive,\\njust negative 20.', 'So we know that our midline must be\\nable to connect the equation as well.', '20 times cosine 30x, which tells you that the midline here is 0.', 'So we know that we can work from that point to the highest point.', \"If you didn't say both sine, you could just say sinusoidal functions, and that would cover both of them.\", 'That means both sine and cosine.', \"I'm sure you're going to want to use that word a lot.\", 'But this can also be attributed to since we know the period itself,\\nthis can go up in the right period to 4.62 to find another nv6, too.', 'Alright, so we have two points right now?', 'Yes.', 'Alright, thank you.', 'Your idea, I think you were taking half of the half period, right?', 'Here would be six.', 'Here to here is three.', 'You took three and you added 4.6.', 'So basically how I thought about it was that\\nAnd 4.61 is on this side of it.', 'So if this is reflected across the other side,\\nbecause the part is zero, it would just be negative 4.61.', 'I know you probably some are taking a quiz right before spring break.', 'Prior to taking that quiz, like this Friday, you had taken one of those fake quizzes,\\nwhich I took the way you answered things, and then we did this in class on Tuesday.', 'So I want to give you back your original fake quiz\\nalong with the real quiz.', \"I didn't grade the fake quiz,\\nbut I'm just giving them back to you so you can see.\", \"The second question, or I'm sorry,\\nthe third question on the quiz,\\nwhich is on the back side of it,\\nis very similar to the fake quiz,\\nso you might want to compare those.\", \"Yesterday when we went, when I went to like stage time, we don't do it great.\", 'People showed up.', 'So I think I was warning.', 'So you used the formula to find it.', 'If you added up all the given lengths, would it also be that?', 'No.', 'So let me ask, do you think they should all be the same\\nor anything they should do?', 'Different.', 'What do you guys think?', 'Get the same number or different numbers?', 'The same.', 'Get the same, be different.', \"How do you think it's that?\", \"Um, I don't know, I just assume it's like...\", 'I think if the radius, like the difference is the same, the circumference would be like the same.', 'Well, not the same, but like.', \"Well, the circle that was created here, and those little lengths we got back up here,\\nso probably it's a little bit more accurate than us using string and trying to wrap it around.\", 'How many did it fit around here?', 'So good.', 'We should assume that .', \"and then\\nyou're stuck on trying to figure out how to convert.\", 'Maybe we should use an example, like what if you had an angle\\nof 30 degrees?', 'Think about, use that one and see\\nif you can figure out how to get it to 30 degrees.', 'So like this little, how long is this little, yeah.', \"Actually, that's not exactly.\", \"So I'm asking you right now, though.\", 'How long?', 'This one was .', 'See, there is more than six.', 'These measurements were real, so they really\\nare all the same length, at least rounded to two decimal\\nplaces over the same length.', 'Pretty accurate.', 'So then what is in part b is that we\\nwant to find the proportion of the radius that\\nfits in the extra part.', 'So this can be .', \"So what you're asking to do is to find that ratio, which then, through data,\\nif you round it into two decimal places, and that is how you make your work in\\nPart B approximately how the radii look around the frame of a circle.\", 'What do you think?', 'Yes, Kenny.', 'And that was shown here, because that angle was actually given.', 'But what is that measure exactly?', \"I mean, it's one radian, but what else is it exactly?\", 'So if you did, I can divide this by 57.', \"Is that what you're saying?\", 'Seems like 30 degrees might be about half of a...', 'Does anyone agree with that idea?', \"Okay, Mattel, I think that that's the same thing as this, because if I divide 30 by...\", 'Does anyone have a different form of?', '2 pi is equal to 30 over x if I wanted to figure out the\\nradians.', 'the angle and radiance and you can just put it up here.', 'And maybe you should just do a couple angles.', 'Convert them to radians until you feel that.', 'Completed by Tuesday.', \"I'm sleeping.\", 'I hate shake first box.', 'I just need it all the time.', \"Like I'm always sleepy in this class.\", 'Even last night.', \"I don't even know what we're doing.\", 'I just came back in.', \"It's like a worksheet.\", 'Have you done your Naviance?', 'I have.', 'I was like, oh, doing a spring break.', 'And then like on Sunday I was like,\\noh yeah, I was supposed to do that.', 'Yeah.', \"I didn't do like literally all I did\\nspring break was work.\", 'Job.', 'So I was like working all spring break.', 'And I hung out like twice.', 'And then I went prom dress shopping.', 'You went to prom, right?', 'Mm-hmm.', \"Do you know if Kim's going?\", 'Is Kim going?', \"She is, I don't know.\", 'I forgot to ask her.', 'Wait, what Kim?', 'Maura.', 'Ike and Maura.', \"She's not?\", 'No.', 'We were talking about a different Kim.', 'And she was just like, no.', 'Yeah, I was like, are you going?', \"She's like, no.\", \"She's like, oh, because you have to like\\ndress up and stuff.\", 'I was like.', \"I wonder what she'll look like in the dress.\", 'Did you get the, uh.', \"I can't even picture.\", \"That's why she also goes like that.\", 'You should totally wear like a suit.', 'Or like a lady suit.', \"You know what I'm talking about?\", 'Yeah, over and over and over again.', 'But that would require a calculator.', 'Yeah.', 'Do you have an application due?', \"Because I'm trying to get into like an SIC program\\nfor like the, like,\\nabridge program.\", \"So I'll earn college credits with them.\", 'Yeah.', \"But it'll start like next year in the fall.\", 'But applications are due like next Friday.', \"And I haven't even started.\", 'I just started writing my essay now.', 'Is this?', 'Too much is happening at once.', \"I'm gonna go crazy.\", 'dead by the end of the week.', \"But I think it's going to be so much fun.\", 'And then I want to do this.', 'This is what we do.', \"It's my next class.\", \"I'm excited.\", \"I think I'm gonna like watch.\", \"I'm gonna connect the clips.\", 'Becky, can I see yours?', 'Because I just did mine.', 'No, I just...\\nCan I see your clothes?', 'Or are you off by your time?', 'So your units are going to be like degrees squared.', 'Did you make up the proportion before you understand the proportion?', 'Yeah.', 'Ahhh!', 'No.', 'Did you feel interesting as you moved?', \"Like I knew this part and I knew this part but I wasn't sure so I didn't do it.\", \"I'm going to volunteer, so I'm going to be like dead.\", 'Yes!', 'I did this right.', 'I just forgot this part.', 'Oh.', \"I'll do it.\", \"It'll at least be like a solid C, because I did all the rest of it.\", \"I'm actually very happy with the C.\\nWhat are you volunteering for?\", 'Oh, Sunday.', 'Oh, Sunday.', \"Okay, so my weekend is Friday's Latino Fest.\", 'I might go to Island Touch for Jade, her debut.', 'And then Saturday is prom.', 'And then Sunday, C2E2.', \"It's my weekend.\", 'Good turn.', 'Would you like the answer?', 'This is what I wanted.', 'What?', 'This is what I wanted.', 'How do you figure out these?', 'How do you do it?', 'So what I do, I use...', 'I want to break.', 'Oh, there.', 'And then she did it.', 'This week is going to be hell.', 'Because of all the testing.', 'But then the weekend is going to be like...', 'This weekend is going to be too charged.', \"There's too much going on.\", \"It's all happening at once too.\", 'Walk around like a zombie up until Friday.', \"And I'm really tired because I've been waking up really early.\", 'Why?', 'Yesterday I had to wake up like at 5.30.', 'Yes.', 'And then today I woke up at...', 'Girl, I wake up at 5 every day.', \"Because I don't get driven.\", 'I have to take a bus.', 'But the thing is that I was sleeping.', \"So it's like...\\nOh, so you go to sleep late and wake up earlier.\", 'You see, I go to sleep at like 10.30.', \"Oh, that's early.\", \"Yesterday I couldn't fall asleep.\", 'And I was like, why?', 'I thought I was tired.', \"And I didn't go to sleep until like 12.\", 'So I take you like...', 'I woke up really late.', 'I had to work.', 'Until what?', 'I was supposed to be in school at 7.', 'And then I was like...', \"I don't need to go.\", \"I've been only like two seconds with the day.\", 'Yeah.', 'And so like my arm is like...\\nAnd so I kind of hurt.', \"But yesterday I can't like lift it up.\", 'I was like...', \"I'm never doing that again.\", 'Yeah.', 'Bye.']\n"
          ]
        }
      ]
    },
    {
      "cell_type": "code",
      "source": [
        "print(all_results)"
      ],
      "metadata": {
        "id": "_tSXGU5riClA"
      },
      "execution_count": null,
      "outputs": []
    },
    {
      "cell_type": "markdown",
      "source": [],
      "metadata": {
        "id": "A27GqM08iBD6"
      }
    },
    {
      "cell_type": "markdown",
      "metadata": {
        "id": "FuUxAY-SukPA"
      },
      "source": [
        "# 5. Exploratory Data Analysis (EDA)"
      ]
    },
    {
      "cell_type": "markdown",
      "metadata": {
        "id": "0bPkAf5JukPA"
      },
      "source": [
        "Token Frequency Analysis"
      ]
    },
    {
      "cell_type": "markdown",
      "metadata": {
        "id": "Z0KqEMTkukPA"
      },
      "source": [
        "# TFA1 Average sentence length"
      ]
    },
    {
      "cell_type": "code",
      "execution_count": 24,
      "metadata": {
        "outputId": "c67a7456-7b9f-4635-b148-6fc5288a3d06",
        "colab": {
          "base_uri": "https://localhost:8080/"
        },
        "id": "7lYlI_FtxpSA"
      },
      "outputs": [
        {
          "output_type": "stream",
          "name": "stdout",
          "text": [
            "Group 1:\n",
            "Number of sentences: 230\n",
            "Number of word tokens: 687\n",
            "Average sentence length for Group 1 is: 2.9869565217391303\n",
            "\n",
            "Group 2:\n",
            "Number of sentences: 1717\n",
            "Number of word tokens: 4034\n",
            "Average sentence length for Group 2 is: 2.34944670937682\n",
            "\n",
            "Group 3:\n",
            "Number of sentences: 584\n",
            "Number of word tokens: 1626\n",
            "Average sentence length for Group 3 is: 2.7842465753424657\n",
            "\n",
            "Group 4:\n",
            "Number of sentences: 2433\n",
            "Number of word tokens: 5836\n",
            "Average sentence length for Group 4 is: 2.3986847513357996\n",
            "\n",
            "Group 5:\n",
            "Number of sentences: 933\n",
            "Number of word tokens: 2611\n",
            "Average sentence length for Group 5 is: 2.7984994640943195\n",
            "\n",
            "Group 6:\n",
            "Number of sentences: 1653\n",
            "Number of word tokens: 4637\n",
            "Average sentence length for Group 6 is: 2.805202661826981\n",
            "\n",
            "Group 7:\n",
            "Number of sentences: 1722\n",
            "Number of word tokens: 3533\n",
            "Average sentence length for Group 7 is: 2.0516840882694543\n"
          ]
        }
      ],
      "source": [
        "print(\"Group 1:\")\n",
        "print(\"Number of sentences:\", len(sentence_tokens_corpus1))\n",
        "print(\"Number of word tokens:\", len(word_tokens_corpus1))\n",
        "# Calculate the average sentence length\n",
        "average_sentence_length_group1 = (len(word_tokens_corpus1) / len(sentence_tokens_corpus1))\n",
        "print(\"Average sentence length for Group 1 is:\", average_sentence_length_group1)\n",
        "\n",
        "print(\"\\nGroup 2:\")\n",
        "print(\"Number of sentences:\", len(sentence_tokens_corpus2))\n",
        "print(\"Number of word tokens:\", len(word_tokens_corpus2))\n",
        "# Calculate the average sentence length\n",
        "average_sentence_length_group2 = (len(word_tokens_corpus2) / len(sentence_tokens_corpus2))\n",
        "print(\"Average sentence length for Group 2 is:\", average_sentence_length_group2)\n",
        "\n",
        "print(\"\\nGroup 3:\")\n",
        "print(\"Number of sentences:\", len(sentence_tokens_corpus3))\n",
        "print(\"Number of word tokens:\", len(word_tokens_corpus3))\n",
        "# Calculate the average sentence length\n",
        "average_sentence_length_group3 = (len(word_tokens_corpus3) / len(sentence_tokens_corpus3))\n",
        "print(\"Average sentence length for Group 3 is:\", average_sentence_length_group3)\n",
        "\n",
        "print(\"\\nGroup 4:\")\n",
        "print(\"Number of sentences:\", len(sentence_tokens_corpus4))\n",
        "print(\"Number of word tokens:\", len(word_tokens_corpus4))\n",
        "# Calculate the average sentence length\n",
        "average_sentence_length_group4 = (len(word_tokens_corpus4) / len(sentence_tokens_corpus4))\n",
        "print(\"Average sentence length for Group 4 is:\", average_sentence_length_group4)\n",
        "\n",
        "print(\"\\nGroup 5:\")\n",
        "print(\"Number of sentences:\", len(sentence_tokens_corpus5))\n",
        "print(\"Number of word tokens:\", len(word_tokens_corpus5))\n",
        "# Calculate the average sentence length\n",
        "average_sentence_length_group5 = (len(word_tokens_corpus5) / len(sentence_tokens_corpus5))\n",
        "print(\"Average sentence length for Group 5 is:\", average_sentence_length_group5)\n",
        "\n",
        "print(\"\\nGroup 6:\")\n",
        "print(\"Number of sentences:\", len(sentence_tokens_corpus6))\n",
        "print(\"Number of word tokens:\", len(word_tokens_corpus6))\n",
        "# Calculate the average sentence length\n",
        "average_sentence_length_group6 = (len(word_tokens_corpus6) / len(sentence_tokens_corpus6))\n",
        "print(\"Average sentence length for Group 6 is:\", average_sentence_length_group6)\n",
        "\n",
        "print(\"\\nGroup 7:\")\n",
        "print(\"Number of sentences:\", len(sentence_tokens_corpus7))\n",
        "print(\"Number of word tokens:\", len(word_tokens_corpus7))\n",
        "# Calculate the average sentence length\n",
        "average_sentence_length_group7 = (len(word_tokens_corpus7) / len(sentence_tokens_corpus7))\n",
        "print(\"Average sentence length for Group 7 is:\", average_sentence_length_group7)"
      ]
    },
    {
      "cell_type": "markdown",
      "metadata": {
        "id": "gjBpoxrqukPA"
      },
      "source": [
        "# TFA2 Word frequency distributions"
      ]
    },
    {
      "cell_type": "code",
      "execution_count": 25,
      "metadata": {
        "id": "Tb0pUgymukPA",
        "outputId": "68eb765e-e094-4334-82d4-ed06e96ed852",
        "colab": {
          "base_uri": "https://localhost:8080/"
        }
      },
      "outputs": [
        {
          "output_type": "stream",
          "name": "stdout",
          "text": [
            "Most common words in Group 1: [('like', 54), ('going', 13), ('yeah', 12), ('know', 12), ('think', 11), ('oh', 10), ('want', 8), ('would', 8), ('go', 8), ('see', 7), ('right', 7), ('part', 7), ('quiz', 7), ('get', 6), ('yes', 5), ('little', 5), ('one', 5), ('break', 5), ('back', 5), ('different', 5), ('well', 4), ('gon', 4), ('na', 4), ('work', 4), ('use', 4)]\n",
            "Most common words in Group 2: [('like', 141), ('oh', 107), ('yeah', 94), ('one', 79), ('know', 63), ('wait', 60), ('get', 56), ('okay', 49), ('pi', 42), ('right', 41), ('going', 36), ('want', 35), ('got', 34), ('would', 34), ('sorry', 34), ('think', 31), ('degrees', 31), ('bye', 30), ('two', 30), ('radius', 28), ('times', 27), ('divided', 25), ('find', 25), ('really', 24), ('see', 23)]\n",
            "Most common words in Group 3: [('like', 69), ('yeah', 64), ('know', 42), ('right', 31), ('one', 31), ('pi', 30), ('oh', 28), ('going', 24), ('get', 22), ('think', 22), ('would', 18), ('okay', 17), ('got', 16), ('mean', 15), ('radians', 15), ('really', 12), ('good', 12), ('go', 10), ('take', 9), ('want', 9), ('yes', 9), ('degrees', 9), ('pretty', 8), ('see', 8), ('last', 8)]\n",
            "Most common words in Group 4: [('know', 222), ('like', 201), ('yeah', 166), ('going', 124), ('okay', 117), ('one', 110), ('right', 88), ('oh', 82), ('go', 80), ('get', 76), ('think', 65), ('would', 62), ('pi', 61), ('want', 58), ('period', 54), ('really', 53), ('work', 41), ('yes', 38), ('thing', 38), ('way', 35), ('got', 34), ('actually', 33), ('see', 33), ('well', 32), ('use', 30)]\n",
            "Most common words in Group 5: [('like', 119), ('yeah', 77), ('know', 48), ('one', 43), ('going', 37), ('pi', 36), ('get', 35), ('think', 29), ('oh', 28), ('would', 27), ('right', 26), ('want', 22), ('radius', 21), ('time', 18), ('go', 18), ('times', 17), ('yes', 17), ('radians', 17), ('point', 16), ('value', 16), ('degrees', 16), ('okay', 15), ('two', 15), ('radian', 15), ('mean', 14)]\n",
            "Most common words in Group 6: [('like', 333), ('know', 140), ('yeah', 139), ('one', 92), ('going', 84), ('oh', 68), ('think', 62), ('got', 50), ('six', 49), ('really', 42), ('right', 37), ('get', 37), ('go', 33), ('want', 33), ('pi', 33), ('good', 28), ('sure', 26), ('two', 25), ('see', 25), ('would', 24), ('still', 24), ('wait', 23), ('back', 22), ('well', 21), ('take', 20)]\n",
            "Most common words in Group 7: [('yeah', 143), ('like', 134), ('know', 129), ('oh', 64), ('going', 55), ('okay', 49), ('get', 47), ('right', 37), ('wait', 37), ('one', 36), ('pi', 33), ('point', 29), ('would', 28), ('say', 27), ('think', 26), ('put', 26), ('sorry', 25), ('got', 23), ('take', 23), ('want', 23), ('go', 22), ('good', 22), ('really', 19), ('see', 18), ('guys', 18)]\n"
          ]
        }
      ],
      "source": [
        "#Top 25 most common words with their counts\n",
        "fd1 = nltk.FreqDist(text_objects_corpus1)\n",
        "print(\"Most common words in Group 1:\",fd1.most_common(25))\n",
        "\n",
        "fd2 = nltk.FreqDist(text_objects_corpus2)\n",
        "print(\"Most common words in Group 2:\",fd2.most_common(25))\n",
        "\n",
        "fd3 = nltk.FreqDist(text_objects_corpus3)\n",
        "print(\"Most common words in Group 3:\",fd3.most_common(25))\n",
        "\n",
        "fd4 = nltk.FreqDist(text_objects_corpus4)\n",
        "print(\"Most common words in Group 4:\",fd4.most_common(25))\n",
        "\n",
        "fd5 = nltk.FreqDist(text_objects_corpus5)\n",
        "print(\"Most common words in Group 5:\",fd5.most_common(25))\n",
        "\n",
        "fd6 = nltk.FreqDist(text_objects_corpus6)\n",
        "print(\"Most common words in Group 6:\",fd6.most_common(25))\n",
        "\n",
        "fd7 = nltk.FreqDist(text_objects_corpus7)\n",
        "print(\"Most common words in Group 7:\",fd7.most_common(25))"
      ]
    },
    {
      "cell_type": "markdown",
      "metadata": {
        "id": "571StNJXukPA"
      },
      "source": [
        "# TFA3 Lexical Diversity\n",
        "Higher lexical diversity points to a more varied vocabulary"
      ]
    },
    {
      "cell_type": "code",
      "execution_count": 26,
      "metadata": {
        "id": "SZSvXJbgukPA",
        "outputId": "3d74b0cb-cba1-47c3-a0f0-160329aa5674",
        "colab": {
          "base_uri": "https://localhost:8080/"
        }
      },
      "outputs": [
        {
          "output_type": "stream",
          "name": "stdout",
          "text": [
            "Lexical diversity for Group 1: 0.48326055312954874\n",
            "Lexical diversity for Group 2: 0.2808626673277144\n",
            "Lexical diversity for Group 3: 0.3800738007380074\n",
            "Lexical diversity for Group 4: 0.2059629883481837\n",
            "Lexical diversity for Group 5: 0.29375718115664495\n",
            "Lexical diversity for Group 6: 0.24110416217381928\n",
            "Lexical diversity for Group 7: 0.25559015001415225\n"
          ]
        }
      ],
      "source": [
        "lexical_diversity_group1 = len(set(word_tokens_corpus1)) / len(word_tokens_corpus1)\n",
        "lexical_diversity_group2 = len(set(word_tokens_corpus2)) / len(word_tokens_corpus2)\n",
        "lexical_diversity_group3 = len(set(word_tokens_corpus3)) / len(word_tokens_corpus3)\n",
        "lexical_diversity_group4 = len(set(word_tokens_corpus4)) / len(word_tokens_corpus4)\n",
        "lexical_diversity_group5 = len(set(word_tokens_corpus5)) / len(word_tokens_corpus5)\n",
        "lexical_diversity_group6 = len(set(word_tokens_corpus6)) / len(word_tokens_corpus6)\n",
        "lexical_diversity_group7 = len(set(word_tokens_corpus7)) / len(word_tokens_corpus7)\n",
        "\n",
        "print(\"Lexical diversity for Group 1:\", lexical_diversity_group1)\n",
        "print(\"Lexical diversity for Group 2:\", lexical_diversity_group2)\n",
        "print(\"Lexical diversity for Group 3:\", lexical_diversity_group3)\n",
        "print(\"Lexical diversity for Group 4:\", lexical_diversity_group4)\n",
        "print(\"Lexical diversity for Group 5:\", lexical_diversity_group5)\n",
        "print(\"Lexical diversity for Group 6:\", lexical_diversity_group6)\n",
        "print(\"Lexical diversity for Group 7:\", lexical_diversity_group7)"
      ]
    },
    {
      "cell_type": "markdown",
      "metadata": {
        "id": "8CQj7ZXbukPA"
      },
      "source": [
        "# TFA4 Word Length Distribution"
      ]
    },
    {
      "cell_type": "code",
      "execution_count": 28,
      "metadata": {
        "id": "SQgeZ5JaukPA",
        "outputId": "b1cd5a68-2ef3-4c89-d6d5-2a5849f2272d",
        "colab": {
          "base_uri": "https://localhost:8080/"
        }
      },
      "outputs": [
        {
          "output_type": "stream",
          "name": "stdout",
          "text": [
            "Average word length for Group 1: 4.966521106259098\n",
            "Average word length for Group 2: 4.9791769955379275\n",
            "Average word length for Group 3: 4.88130381303813\n",
            "Average word length for Group 4: 4.934544208361892\n",
            "Average word length for Group 5: 5.0635771734967445\n",
            "Average word length for Group 6: 4.9152469268923875\n",
            "Average word length for Group 7: 4.876875176903481\n"
          ]
        }
      ],
      "source": [
        "# Average word length\n",
        "avg_word_length_group1 = sum(len(word) for word in word_tokens_corpus1) / len(word_tokens_corpus1)\n",
        "avg_word_length_group2 = sum(len(word) for word in word_tokens_corpus2) / len(word_tokens_corpus2)\n",
        "avg_word_length_group3 = sum(len(word) for word in word_tokens_corpus3) / len(word_tokens_corpus3)\n",
        "avg_word_length_group4 = sum(len(word) for word in word_tokens_corpus4) / len(word_tokens_corpus4)\n",
        "avg_word_length_group5 = sum(len(word) for word in word_tokens_corpus5) / len(word_tokens_corpus5)\n",
        "avg_word_length_group6 = sum(len(word) for word in word_tokens_corpus6) / len(word_tokens_corpus6)\n",
        "avg_word_length_group7 = sum(len(word) for word in word_tokens_corpus7) / len(word_tokens_corpus7)\n",
        "\n",
        "\n",
        "print(\"Average word length for Group 1:\", avg_word_length_group1)\n",
        "print(\"Average word length for Group 2:\", avg_word_length_group2)\n",
        "print(\"Average word length for Group 3:\", avg_word_length_group3)\n",
        "print(\"Average word length for Group 4:\", avg_word_length_group4)\n",
        "print(\"Average word length for Group 5:\", avg_word_length_group5)\n",
        "print(\"Average word length for Group 6:\", avg_word_length_group6)\n",
        "print(\"Average word length for Group 7:\", avg_word_length_group7)"
      ]
    },
    {
      "cell_type": "markdown",
      "metadata": {
        "id": "e3N10-tTukPA"
      },
      "source": [
        "# TFA 5 Bigrams and Collocations"
      ]
    },
    {
      "cell_type": "code",
      "execution_count": 30,
      "metadata": {
        "id": "ugpvoVKcukPA",
        "outputId": "5b3b986a-9d9a-4fee-e2c7-f7407823b26d",
        "colab": {
          "base_uri": "https://localhost:8080/"
        }
      },
      "outputs": [
        {
          "output_type": "stream",
          "name": "stdout",
          "text": [
            "Common bigrams in Group 1: [('ahead', 'check'), ('always', 'sleepy'), ('answered', 'things'), ('approximately', 'radii'), ('c', 'rest'), ('clips', 'becky'), ('college', 'credits'), ('couple', 'angles'), ('cover', 'means'), ('data', 'round')]\n",
            "Common bigrams in Group 2: [('abraham', 'lincoln'), ('ah', 'increased'), ('angel', 'classes'), ('apologize', 'advance'), ('approximating', 'rather'), ('april', 'fools'), ('ass', 'bro'), ('audience', 'upsetting'), ('baby', 'drugs'), ('batman', 'skips')]\n",
            "Common bigrams in Group 3: [('ah', 'clumsy'), ('andrew', 'organize'), ('annoying', 'hell'), ('barrel', 'knot'), ('behind', 'started'), ('blows', 'mind'), ('bren', 'deirdre'), ('brennan', 'seen'), ('bruised', 'thumb'), ('bullshit', 'annoying')]\n",
            "Common bigrams in Group 4: [('academic', 'achievements'), ('adopts', 'type'), ('alec', 'holm'), ('allowed', 'eat'), ('anchor', 'ice'), ('apparently', 'expecting'), ('attached', 'onto'), ('attention', 'throw'), ('aw', 'melissa'), ('backwards', 'seat')]\n",
            "Common bigrams in Group 5: [('abu', 'color'), ('adopts', 'weighty'), ('alright', 'ideas'), ('angular', 'speed'), ('art', 'project'), ('aside', 'simplify'), ('attached', 'onto'), ('bother', 'damn'), ('bought', 'laptop'), ('brain', 'overloaded')]\n",
            "Common bigrams in Group 6: [('accidentally', 'grabbed'), ('according', 'mr'), ('adam', 'davis'), ('adding', 'decimals'), ('adopts', 'type'), ('advice', 'cute'), ('afterwards', 'pissed'), ('agreement', 'colloquial'), ('amazing', 'eee'), ('andrew', 'padu')]\n",
            "Common bigrams in Group 7: [('actual', 'quids'), ('almost', 'warmup'), ('andrew', 'jackson'), ('arthur', 'muffy'), ('ate', 'muck'), ('bragging', 'score'), ('bug', 'boring'), ('bullcrap', 'ate'), ('cash', 'register'), ('causing', 'kills')]\n"
          ]
        }
      ],
      "source": [
        "from nltk import bigrams\n",
        "from nltk.collocations import BigramCollocationFinder\n",
        "from nltk.metrics import BigramAssocMeasures\n",
        "\n",
        "# Group 1\n",
        "bigram_measures_group1 = BigramAssocMeasures()\n",
        "group1Bigrams = BigramCollocationFinder.from_words(word_tokens_corpus1)\n",
        "print(\"Common bigrams in Group 1:\", group1Bigrams.nbest(bigram_measures_group1.pmi, 10))\n",
        "\n",
        "# Group 2\n",
        "bigram_measures_group2 = BigramAssocMeasures()\n",
        "group2Bigrams = BigramCollocationFinder.from_words(word_tokens_corpus2)\n",
        "print(\"Common bigrams in Group 2:\", group2Bigrams.nbest(bigram_measures_group2.pmi, 10))\n",
        "\n",
        "# Group 3\n",
        "bigram_measures_group3 = BigramAssocMeasures()\n",
        "group3Bigrams = BigramCollocationFinder.from_words(word_tokens_corpus3)\n",
        "print(\"Common bigrams in Group 3:\", group3Bigrams.nbest(bigram_measures_group3.pmi, 10))\n",
        "\n",
        "# Group 4\n",
        "bigram_measures_group4 = BigramAssocMeasures()\n",
        "group4Bigrams = BigramCollocationFinder.from_words(word_tokens_corpus4)\n",
        "print(\"Common bigrams in Group 4:\", group4Bigrams.nbest(bigram_measures_group4.pmi, 10))\n",
        "\n",
        "# Group 5\n",
        "bigram_measures_group5 = BigramAssocMeasures()\n",
        "group5Bigrams = BigramCollocationFinder.from_words(word_tokens_corpus5)\n",
        "print(\"Common bigrams in Group 5:\", group5Bigrams.nbest(bigram_measures_group5.pmi, 10))\n",
        "\n",
        "# Group 6\n",
        "bigram_measures_group6 = BigramAssocMeasures()\n",
        "group6Bigrams = BigramCollocationFinder.from_words(word_tokens_corpus6)\n",
        "print(\"Common bigrams in Group 6:\", group6Bigrams.nbest(bigram_measures_group6.pmi, 10))\n",
        "\n",
        "# Group 7\n",
        "bigram_measures_group7 = BigramAssocMeasures()\n",
        "group7Bigrams = BigramCollocationFinder.from_words(word_tokens_corpus7)\n",
        "print(\"Common bigrams in Group 7:\", group7Bigrams.nbest(bigram_measures_group7.pmi, 10))\n"
      ]
    },
    {
      "cell_type": "markdown",
      "metadata": {
        "id": "oGr5t-PyukPB"
      },
      "source": [
        "# TFA 6 Unique Words Over Time"
      ]
    },
    {
      "cell_type": "code",
      "execution_count": 31,
      "metadata": {
        "id": "veFmBMybukPB",
        "outputId": "55a50c4c-1c61-45fe-c969-ef05e2f52c2d",
        "colab": {
          "base_uri": "https://localhost:8080/"
        }
      },
      "outputs": [
        {
          "output_type": "stream",
          "name": "stdout",
          "text": [
            "Number of unique words in Group 1: 332\n",
            "Number of unique words in Group 2: 1133\n",
            "Number of unique words in Group 3: 618\n",
            "Number of unique words in Group 4: 1202\n",
            "Number of unique words in Group 5: 767\n",
            "Number of unique words in Group 6: 1118\n",
            "Number of unique words in Group 7: 903\n"
          ]
        }
      ],
      "source": [
        "unique_words_group1 = set(word_tokens_corpus1)\n",
        "unique_words_group2 = set(word_tokens_corpus2)\n",
        "unique_words_group3 = set(word_tokens_corpus3)\n",
        "unique_words_group4 = set(word_tokens_corpus4)\n",
        "unique_words_group5 = set(word_tokens_corpus5)\n",
        "unique_words_group6 = set(word_tokens_corpus6)\n",
        "unique_words_group7 = set(word_tokens_corpus7)\n",
        "\n",
        "print(\"Number of unique words in Group 1:\", len(unique_words_group1))\n",
        "print(\"Number of unique words in Group 2:\", len(unique_words_group2))\n",
        "print(\"Number of unique words in Group 3:\", len(unique_words_group3))\n",
        "print(\"Number of unique words in Group 4:\", len(unique_words_group4))\n",
        "print(\"Number of unique words in Group 5:\", len(unique_words_group5))\n",
        "print(\"Number of unique words in Group 6:\", len(unique_words_group6))\n",
        "print(\"Number of unique words in Group 7:\", len(unique_words_group7))"
      ]
    },
    {
      "cell_type": "markdown",
      "metadata": {
        "id": "2tItJUiSukPE"
      },
      "source": [
        "# TFA N-grams and collocations"
      ]
    },
    {
      "cell_type": "code",
      "execution_count": 32,
      "metadata": {
        "id": "N9_6VkK-ukPE",
        "outputId": "79342e74-9ef6-4251-bd5c-aac1c4eb0be7",
        "colab": {
          "base_uri": "https://localhost:8080/"
        }
      },
      "outputs": [
        {
          "output_type": "stream",
          "name": "stdout",
          "text": [
            "        ('like', 'oh')          ('gon', 'na')    ('spring', 'break')      ('going', 'like')       ('fake', 'quiz')       ('yeah', 'like')        ('go', 'sleep')      ('little', 'bit')      ('like', 'going')      ('since', 'know')   ('negative', 'know')      ('sure', 'going')     ('taking', 'quiz')      ('would', 'like')       ('like', 'well')         ('one', 'see')     ('two', 'decimal')  ('decimal', 'places')          ('part', 'b')    ('like', 'degrees')   ('wanted', 'figure')       ('went', 'prom')       ('kim', 'going')       ('like', 'like')      ('like', 'dress')       ('like', 'next')       ('knew', 'part')       ('oh', 'sunday')   ('weekend', 'going') ('early', 'yesterday')      ('sleep', 'like')      ('yes', 'review')   ('review', 'little')        ('bit', 'want')       ('want', 'like')        ('like', 'tea')        ('tea', 'yeah')       ('yeah', 'well')       ('well', 'know')       ('know', 'warm')       ('warm', 'pose')       ('pose', 'yeah')      ('yeah', 'water')    ('water', 'bottle')     ('bottle', 'fill')       ('fill', 'fill')      ('fill', 'thank')        ('thank', 'oh')         ('oh', 'nose')      ('nose', 'itchy') \n",
            "                     5                      4                      4                      4                      3                      3                      3                      2                      2                      2                      2                      2                      2                      2                      2                      2                      2                      2                      2                      2                      2                      2                      2                      2                      2                      2                      2                      2                      2                      2                      2                      1                      1                      1                      1                      1                      1                      1                      1                      1                      1                      1                      1                      1                      1                      1                      1                      1                      1                      1 \n",
            "        ('bye', 'bye')     ('sorry', 'sorry')         ('oh', 'wait')          ('oh', 'god')      ('oh', 'display')         ('oh', 'yeah')      ('one', 'radius')      ('display', 'oh')          ('gon', 'na')          ('two', 'pi')       ('wimp', 'wimp')        ('good', 'job')         ('like', 'oh')         ('let', 'see')  ('proportion', 'one')      ('extra', 'part')       ('feel', 'like') ('find', 'proportion')   ('degrees', 'times')         ('yeah', 'oh')        ('like', 'one')         ('oh', 'like')         ('one', 'one')        ('times', 'pi')           ('pi', 'oh') ('radians', 'degrees')   ('giving', 'giving')          ('one', 'oh')       ('like', 'like')       ('know', 'like')        ('one', 'yeah')          ('get', 'oh')        ('oh', 'right')      ('know', 'think') ('rahman', 'emmanuel')       ('back', 'side')         ('pi', 'yeah')         ('oh', 'okay')     ('radius', 'fits') ('degrees', 'divided')     ('divided', 'two')         ('get', 'one')       ('high', 'dive') ('degrees', 'radians')      ('making', 'fun')     ('walk', 'around')       ('yeah', 'know')       ('wait', 'like')     ('meryl', 'meryl')     ('three', 'times') \n",
            "                    28                     19                     12                     12                     11                     10                     10                     10                      9                      9                      9                      8                      8                      7                      7                      7                      6                      6                      6                      5                      5                      5                      5                      5                      5                      5                      5                      4                      4                      4                      4                      4                      4                      4                      4                      4                      4                      4                      4                      4                      4                      4                      4                      4                      4                      3                      3                      3                      3                      3 \n",
            "        ('know', 'know')            ('gon', 'na')           ('oh', 'yeah')         ('yeah', 'like')           ('oh', 'okay')          ('got', 'like')         ('last', 'year')        ('right', 'yeah')         ('feel', 'like')           ('yeah', 'oh')        ('pi', 'radians')         ('yeah', 'mean')        ('first', 'time')     ('thought', 'would')          ('get', 'like')            ('got', 'ta')       ('pretty', 'good')         ('know', 'like')          ('like', 'one')        ('yeah', 'think')        ('might', 'want')          ('leave', 'pi')        ('pi', 'divided')          ('seven', 'pi')           ('way', 'gon')           ('na', 'done')         ('done', 'unit')      ('right', 'making')          ('go', 'ahead')           ('yeah', 'go')        ('looks', 'like') ('tomorrow', 'thursday')    ('harder', 'thought')         ('would', 'get')       ('okay', 'pretty')         ('like', 'take')      ('science', 'part')         ('okay', 'yeah')     ('eight', 'bounces')       ('flappy', 'golf')          ('one', 'like')         ('six', 'think')        ('guys', 'going')         ('going', 'get')       ('really', 'yeah')       ('lane', 'pretty')         ('good', 'yeah')         ('team', 'like')         ('like', 'like')        ('like', 'joint') \n",
            "                      19                        8                        6                        6                        4                        4                        4                        4                        4                        4                        4                        3                        3                        3                        3                        3                        3                        3                        3                        3                        3                        3                        3                        3                        3                        3                        3                        2                        2                        2                        2                        2                        2                        2                        2                        2                        2                        2                        2                        2                        2                        2                        2                        2                        2                        2                        2                        2                        2                        2 \n",
            "      ('know', 'know')       ('yeah', 'yeah')         ('one', 'one')       ('okay', 'okay')       ('yeah', 'know')       ('like', 'like')          ('gon', 'na')     ('sorry', 'sorry')     ('thank', 'thank')      ('right', 'yeah')      ('know', 'going')         ('okay', 'go')     ('half', 'period')      ('little', 'bit')      ('going', 'well')       ('know', 'like')         ('go', 'okay')       ('yeah', 'okay')          ('oh', 'god')  ('inverse', 'cosine')       ('okay', 'yeah')         ('go', 'back')       ('plus', 'plus')        ('going', 'go')           ('pi', 'pi')      ('well', 'going')         ('oh', 'okay')      ('okay', 'going')      ('add', 'period')         ('oh', 'yeah')         ('work', 'us')           ('na', 'go')      ('make', 'sense')      ('never', 'mind')      ('yeah', 'right')         ('get', 'one')     ('use', 'inverse')         ('let', 'see')   ('yeah', 'subtract') ('subtract', 'period')      ('right', 'okay')    ('change', 'stats')       ('yeah', 'like')         ('six', 'six')       ('like', 'yeah')          ('go', 'gym') ('degrees', 'radians')      ('like', 'right')       ('okay', 'know')        ('go', 'ahead') \n",
            "                    60                     21                     21                     18                     14                     14                     14                     13                     12                     12                     12                     11                     11                     11                     11                     10                     10                      9                      9                      9                      8                      8                      8                      8                      8                      8                      7                      7                      7                      7                      7                      7                      6                      6                      6                      6                      6                      6                      6                      6                      6                      6                      6                      6                      6                      6                      6                      5                      5                      5 \n",
            "        ('yeah', 'yeah')            ('gon', 'na')         ('like', 'like')     ('around', 'circle')           ('oh', 'gosh')           ('oh', 'yeah')         ('know', 'like')        ('might', 'want')            ('two', 'pi')   ('orchard', 'hideout')           ('yes', 'yes')         ('going', 'get')        ('extra', 'part')   ('radians', 'degrees')             ('ha', 'ha')        ('going', 'call')        ('little', 'bit')       ('thank', 'thank')         ('plus', 'plus')            ('part', 'b')        ('fit', 'around')        ('one', 'radian')         ('yeah', 'like')   ('cosine', 'equation')         ('know', 'know')        ('like', 'tired')       ('later', 'later')       ('right', 'right')        ('yeah', 'going')          ('one', 'time')       ('times', 'times')         ('feel', 'like')       ('sine', 'cosine')          ('want', 'use')       ('half', 'period')         ('half', 'half')       ('three', 'added')           ('go', 'back')        ('yeah', 'think')      ('broke', 'temple')       ('found', 'ratio')       ('radius', 'like')        ('many', 'times')        ('one', 'radius')       ('thing', 'thing')         ('like', 'know')         ('radii', 'fit')      ('degree', 'value')         ('half', 'hour') ('extended', 'response') \n",
            "                      15                        9                        5                        5                        5                        4                        4                        4                        4                        4                        4                        4                        4                        4                        4                        4                        4                        4                        4                        4                        4                        4                        3                        3                        3                        3                        3                        3                        3                        3                        3                        3                        3                        3                        3                        3                        3                        3                        3                        3                        3                        3                        3                        3                        3                        3                        3                        3                        3                        3 \n",
            "        ('six', 'six')         ('like', 'oh')       ('know', 'know')       ('yeah', 'like')       ('like', 'like')       ('sure', 'sure')       ('yeah', 'yeah')     ('thank', 'thank')         ('oh', 'yeah')      ('like', 'still')     ('still', 'ready')      ('ready', 'like')       ('know', 'like')       ('like', 'know')          ('gon', 'na')       ('feel', 'like')      ('like', 'going')       ('yeah', 'know')       ('like', 'yeah')       ('third', 'one')          ('oh', 'god')       ('give', 'hard')      ('know', 'guess')        ('like', 'two')       ('last', 'year')       ('time', 'like')        ('like', 'one')     ('weird', 'weird') ('going', 'ambitious')        ('one', 'like')      ('hard', 'third')         ('big', 'big')      ('little', 'bit')       ('like', 'okay')        ('going', 'go')      ('going', 'give')         ('got', 'six')           ('oh', 'oh') ('ambitious', 'going')      ('fit', 'around')      ('one', 'radian')    ('one', 'question')     ('really', 'know')        ('act', 'yeah')        ('much', 'fun')       ('know', 'good')        ('one', 'yeah')         ('one', 'one')       ('way', 'going')       ('know', 'yeah') \n",
            "                    25                     20                     16                     14                     14                     12                     11                     11                     11                     11                     11                     11                     10                     10                     10                     10                      9                      8                      8                      8                      7                      7                      6                      6                      6                      6                      6                      6                      6                      6                      6                      6                      5                      5                      5                      5                      5                      5                      5                      5                      5                      5                      4                      4                      4                      4                      4                      4                      4                      4 \n",
            "     ('yeah', 'yeah')      ('know', 'know')         ('gon', 'na')    ('sorry', 'sorry')        ('put', 'put')     ('extra', 'part')        ('na', 'mess')        ('yeah', 'oh')       ('mess', 'gon')      ('like', 'like')     ('going', 'take')      ('know', 'like')     ('know', 'think')       ('get', 'like')    ('point', 'point')        ('oh', 'wait')      ('going', 'add')    ('point', 'going')      ('yeah', 'like')      ('okay', 'like')      ('going', 'say')      ('feel', 'like')     ('cut', 'thingy')          ('two', 'c')        ('buy', 'car')          ('pi', 'pi')      ('take', 'mine')    ('right', 'right')     ('right', 'yeah') ('point', 'whatever')      ('okay', 'okay')      ('add', 'point')    ('like', 'circle')     ('divide', 'get')      ('two', 'three')      ('know', 'yeah')      ('yeah', 'know')      ('yeah', 'okay')       ('good', 'job')     ('one', 'radius')     ('fits', 'extra')      ('like', 'know')    ('people', 'like')      ('last', 'year')     ('mine', 'going')      ('even', 'know')      ('make', 'sure')    ('pretty', 'much')   ('thought', 'said')       ('get', 'know') \n",
            "                   37                    24                    18                    15                    12                    10                     7                     6                     6                     6                     6                     5                     5                     5                     5                     5                     5                     5                     5                     5                     5                     5                     5                     5                     5                     5                     5                     4                     4                     4                     4                     4                     4                     4                     4                     4                     4                     4                     4                     4                     4                     4                     4                     4                     4                     3                     3                     3                     3                     3 \n"
          ]
        }
      ],
      "source": [
        "# display frequency of highest 25 bigrams\n",
        "finder = nltk.collocations.BigramCollocationFinder.from_words(text_objects_corpus1)\n",
        "finder.ngram_fd.tabulate(50)\n",
        "finder2 = nltk.collocations.BigramCollocationFinder.from_words(text_objects_corpus2)\n",
        "finder2.ngram_fd.tabulate(50)\n",
        "finder3 = nltk.collocations.BigramCollocationFinder.from_words(text_objects_corpus3)\n",
        "finder3.ngram_fd.tabulate(50)\n",
        "finder4 = nltk.collocations.BigramCollocationFinder.from_words(text_objects_corpus4)\n",
        "finder4.ngram_fd.tabulate(50)\n",
        "finder5 = nltk.collocations.BigramCollocationFinder.from_words(text_objects_corpus5)\n",
        "finder5.ngram_fd.tabulate(50)\n",
        "finder6 = nltk.collocations.BigramCollocationFinder.from_words(text_objects_corpus6)\n",
        "finder6.ngram_fd.tabulate(50)\n",
        "finder7 = nltk.collocations.BigramCollocationFinder.from_words(text_objects_corpus7)\n",
        "finder7.ngram_fd.tabulate(50)"
      ]
    },
    {
      "cell_type": "code",
      "execution_count": 33,
      "metadata": {
        "id": "ukveWdOFukPE",
        "outputId": "ec22b8d8-1960-4eec-f3c6-206ec02ce507",
        "colab": {
          "base_uri": "https://localhost:8080/"
        }
      },
      "outputs": [
        {
          "output_type": "stream",
          "name": "stdout",
          "text": [
            "('two', 'decimal', 'places')      ('go', 'sleep', 'like')  ('yes', 'review', 'little')  ('review', 'little', 'bit')    ('little', 'bit', 'want')      ('bit', 'want', 'like')      ('want', 'like', 'tea')      ('like', 'tea', 'yeah')      ('tea', 'yeah', 'well')     ('yeah', 'well', 'know')     ('well', 'know', 'warm')     ('know', 'warm', 'pose')     ('warm', 'pose', 'yeah')    ('pose', 'yeah', 'water')  ('yeah', 'water', 'bottle')  ('water', 'bottle', 'fill')   ('bottle', 'fill', 'fill')    ('fill', 'fill', 'thank')      ('fill', 'thank', 'oh')      ('thank', 'oh', 'nose')      ('oh', 'nose', 'itchy')    ('nose', 'itchy', 'feel')    ('itchy', 'feel', 'like')    ('feel', 'like', 'going')  ('like', 'going', 'sneeze') \n",
            "                           2                            2                            1                            1                            1                            1                            1                            1                            1                            1                            1                            1                            1                            1                            1                            1                            1                            1                            1                            1                            1                            1                            1                            1                            1 \n",
            "          ('bye', 'bye', 'bye')     ('sorry', 'sorry', 'sorry')         ('oh', 'display', 'oh')    ('display', 'oh', 'display')        ('wimp', 'wimp', 'wimp') ('proportion', 'one', 'radius')          ('like', 'oh', 'like')            ('oh', 'like', 'oh')   ('find', 'proportion', 'one')  ('giving', 'giving', 'giving')       ('one', 'radius', 'fits')     ('radius', 'fits', 'extra')       ('fits', 'extra', 'part')        ('divided', 'two', 'pi')    ('making', 'fun', 'radians')    ('fun', 'radians', 'making')    ('radians', 'making', 'fun')         ('right', 'yeah', 'oh')      ('might', 'steal', 'seat')     ('meryl', 'meryl', 'meryl')     ('used', 'share', 'locker')           ('know', 'gon', 'na')       ('find', 'smith', 'snow')    ('two', 'blondes', 'walked')    ('blondes', 'walked', 'bar') \n",
            "                             27                              17                              10                              10                               8                               7                               5                               4                               4                               4                               3                               3                               3                               3                               3                               3                               3                               2                               2                               2                               2                               2                               2                               2                               2 \n",
            "       ('know', 'know', 'know')            ('way', 'gon', 'na')           ('gon', 'na', 'done')          ('na', 'done', 'unit')  ('harder', 'thought', 'would')      ('lane', 'pretty', 'good')      ('pretty', 'good', 'yeah')       ('like', 'like', 'joint')       ('like', 'joint', 'team')            ('gon', 'na', 'six')       ('pi', 'radians', 'yeah')      ('add', 'third', 'bottom')            ('pi', 'yeah', 'oh')          ('gon', 'na', 'learn')      ('thank', 'break', 'rick')        ('break', 'rick', 'fun')        ('rick', 'fun', 'still')     ('fun', 'still', 'alright')     ('still', 'alright', 'end')     ('alright', 'end', 'going')      ('end', 'going', 'stayed')     ('going', 'stayed', 'city') ('stayed', 'city', 'basically')   ('city', 'basically', 'yeah')   ('basically', 'yeah', 'went') \n",
            "                             15                               3                               3                               3                               2                               2                               2                               2                               2                               2                               2                               2                               2                               2                               1                               1                               1                               1                               1                               1                               1                               1                               1                               1                               1 \n",
            "       ('know', 'know', 'know')           ('one', 'one', 'one')     ('sorry', 'sorry', 'sorry')     ('thank', 'thank', 'thank')        ('yeah', 'yeah', 'yeah')          ('okay', 'go', 'okay')        ('okay', 'okay', 'okay')      ('going', 'well', 'going')       ('well', 'going', 'well')             ('gon', 'na', 'go')  ('yeah', 'subtract', 'period')        ('plus', 'plus', 'plus')              ('pi', 'pi', 'pi')             ('na', 'go', 'gym')   ('right', 'yeah', 'subtract') ('subtract', 'period', 'right')            ('go', 'okay', 'go')          ('go', 'okay', 'okay')    ('going', 'change', 'stats')         ('okay', 'going', 'go')            ('go', 'gym', 'gon')            ('gym', 'gon', 'na')      ('think', 'little', 'bit')  ('little', 'bit', 'difficult')  ('subtract', 'half', 'period') \n",
            "                             48                              16                              11                              10                              10                               9                               8                               8                               8                               7                               6                               6                               6                               6                               5                               5                               5                               5                               5                               5                               5                               5                               5                               5                               4 \n",
            "          ('yeah', 'yeah', 'yeah')                 ('ha', 'ha', 'ha')           ('plus', 'plus', 'plus')         ('radii', 'fit', 'around')            ('dragon', 'ball', 'z')        ('later', 'later', 'later')       ('like', 'english', 'first')       ('english', 'first', 'time')         ('know', 'use', 'inverse')         ('half', 'half', 'period')         ('took', 'three', 'added')         ('took', 'quiz', 'friday') ('three', 'exclamation', 'points')      ('longest', 'easter', 'life')                ('pi', 'gon', 'na')               ('pi', 'yeah', 'pi')          ('one', 'radius', 'fits')          ('fits', 'extra', 'part')         ('going', 'call', 'going')          ('call', 'going', 'call')        ('thank', 'thank', 'thank')           ('many', 'radii', 'fit')     ('fit', 'around', 'perimeter')  ('around', 'perimeter', 'circle')        ('fit', 'around', 'circle') \n",
            "                                10                                  3                                  3                                  3                                  2                                  2                                  2                                  2                                  2                                  2                                  2                                  2                                  2                                  2                                  2                                  2                                  2                                  2                                  2                                  2                                  2                                  2                                  2                                  2                                  2 \n",
            "              ('six', 'six', 'six')          ('like', 'still', 'ready')          ('still', 'ready', 'like')            ('sure', 'sure', 'sure')            ('know', 'know', 'know')         ('thank', 'thank', 'thank')          ('ready', 'like', 'still')           ('give', 'hard', 'third')            ('hard', 'third', 'one')               ('like', 'oh', 'god')     ('going', 'ambitious', 'going') ('ambitious', 'going', 'ambitious')               ('big', 'big', 'big')         ('weird', 'weird', 'weird')           ('going', 'give', 'hard')           ('whole', 'time', 'like')            ('know', 'like', 'like')      ('fit', 'around', 'perimeter')   ('around', 'perimeter', 'circle')          ('radii', 'fit', 'around')                    ('pi', 'r', 'r')            ('yeah', 'yeah', 'yeah')            ('third', 'one', 'like')            ('yeah', 'know', 'like')          ('going', 'pick', 'piece') \n",
            "                                 24                                  11                                  11                                  11                                  10                                   9                                   9                                   6                                   6                                   5                                   5                                   5                                   5                                   4                                   4                                   3                                   3                                   3                                   3                                   3                                   3                                   3                                   3                                   2                                   2 \n",
            "       ('yeah', 'yeah', 'yeah')        ('know', 'know', 'know')     ('sorry', 'sorry', 'sorry')           ('put', 'put', 'put')           ('gon', 'na', 'mess')           ('na', 'mess', 'gon')           ('mess', 'gon', 'na')       ('going', 'take', 'mine')       ('going', 'add', 'point')       ('fits', 'extra', 'part')       ('take', 'mine', 'going')       ('mine', 'going', 'take')       ('point', 'going', 'add')   ('imagine', 'like', 'circle')         ('one', 'two', 'three')         ('gon', 'na', 'happen')        ('two', 'three', 'four')       ('three', 'four', 'five')   ('find', 'proportion', 'one') ('proportion', 'one', 'radius')       ('one', 'radius', 'fits')     ('radius', 'fits', 'extra')      ('know', 'people', 'like')      ('people', 'like', 'like')              ('pi', 'pi', 'pi') \n",
            "                             31                              18                              14                              11                               7                               6                               6                               5                               4                               4                               4                               4                               3                               3                               3                               3                               3                               3                               3                               3                               3                               3                               3                               3                               3 \n"
          ]
        }
      ],
      "source": [
        "# display frequency of highest 25 trigrams\n",
        "finder = nltk.collocations.TrigramCollocationFinder.from_words(text_objects_corpus1)\n",
        "finder.ngram_fd.tabulate(25)\n",
        "finder2 = nltk.collocations.TrigramCollocationFinder.from_words(text_objects_corpus2)\n",
        "finder2.ngram_fd.tabulate(25)\n",
        "finder3 = nltk.collocations.TrigramCollocationFinder.from_words(text_objects_corpus3)\n",
        "finder3.ngram_fd.tabulate(25)\n",
        "finder4 = nltk.collocations.TrigramCollocationFinder.from_words(text_objects_corpus4)\n",
        "finder4.ngram_fd.tabulate(25)\n",
        "finder5 = nltk.collocations.TrigramCollocationFinder.from_words(text_objects_corpus5)\n",
        "finder5.ngram_fd.tabulate(25)\n",
        "finder6 = nltk.collocations.TrigramCollocationFinder.from_words(text_objects_corpus6)\n",
        "finder6.ngram_fd.tabulate(25)\n",
        "finder7 = nltk.collocations.TrigramCollocationFinder.from_words(text_objects_corpus7)\n",
        "finder7.ngram_fd.tabulate(25)"
      ]
    },
    {
      "cell_type": "markdown",
      "metadata": {
        "id": "KlySdwZ_ukPB"
      },
      "source": [
        "# This follows on the last but generates list of words that are unique to that corpus. - Will fix later"
      ]
    },
    {
      "cell_type": "code",
      "execution_count": 35,
      "metadata": {
        "id": "qAjT4kGqukPB",
        "outputId": "410bcf0a-8c3b-430d-96da-95127ba11c52",
        "colab": {
          "base_uri": "https://localhost:8080/"
        }
      },
      "outputs": [
        {
          "output_type": "stream",
          "name": "stdout",
          "text": [
            "Words exclusive to corpus1: {'sleepy', 'credits', 'naviance', 'becky', 'sic', 'lady', 'earn', 'fest', 'lift', 'latino', 'pose', 'suit', 'debut', 'itchy', 'abridge', 'application', 'volunteering', 'sneeze', 'driven', 'kim', 'ike', 'shake', 'warning', 'jade', 'charged', 'beard', 'zombie', 'maura', 'essay', 'applications', 'tea', 'stage'}\n",
            "Words exclusive to corpus2: {'overnight', 'sexuality', 'raffling', 'degrading', 'batman', 'attila', 'danielle', 'reasoning', 'cha', 'intervals', 'boobie', 'prompt', 'pajamas', 'helped', 'foreigners', 'robotics', 'brave', 'hmm', 'kan', 'ninja', 'closet', 'tedious', 'obvious', 'rahman', 'halloween', 'display', 'weirdly', 'convince', 'h', 'bucket', 'ash', 'pot', 'pies', 'fold', 'initials', 'texting', 'conversation', 'dbq', 'oppressing', 'continue', 'gold', 'sadistic', 'formulas', 'umbrellas', 'morales', 'merle', 'nifty', 'issue', 'heck', 'press', 'foxes', 'clip', 'thread', 'mars', 'flannel', 'gruesome', 'clever', 'main', 'photos', 'lunchers', 'notice', 'captain', 'purses', 'janessa', 'suddenly', 'daily', 'collections', 'rolls', 'milos', 'underneath', 'switching', 'master', 'clock', 'closemate', 'turns', 'gigantic', 'married', 'chakaroni', 'favorite', 'ticket', 'force', 'lunchbox', 'accuse', 'nap', 'nsync', 'fancy', 'ace', 'ass', 'draft', 'angel', 'balconies', 'closest', 'belayed', 'cubs', 'picked', 'facing', 'pee', 'picks', 'christensen', 'confusingly', 'wise', 'oxymoron', 'confirm', 'pickwick', 'town', 'opposite', 'effort', 'romantic', 'dates', 'assigning', 'emotions', 'orange', 'pushpins', 'chinese', 'hun', 'ounces', 'collection', 'skeleton', 'cameos', 'rulers', 'ab', 'priorities', 'whale', 'widest', 'significance', 'shape', 'saint', 'rhymed', 'rahm', 'flipped', 'spelled', 'volume', 'increased', 'refer', 'recorder', 'marvel', 'bagged', 'rotations', 'wai', 'languages', 'motto', 'purse', 'ugliest', 'angled', 'collateral', 'fools', 'frq', 'wood', 'reasons', 'merrill', 'wimp', 'ramen', 'cutter', 'tense', 'jordan', 'looked', 'lived', 'perfume', 'stretchy', 'peel', 'rodents', 'ears', 'shots', 'holders', 'stomach', 'formation', 'report', 'segment', 'trump', 'sky', 'chamu', 'wimpy', 'suburbs', 'hooks', 'fired', 'perfumery', 'leaky', 'satanist', 'novel', 'ship', 'christian', 'share', 'sclingy', 'noodles', 'training', 'writes', 'yawned', 'texted', 'grace', 'stamped', 'lazy', 'trickster', 'creation', 'imagining', 'pairs', 'dancing', 'pajama', 'greater', 'comedies', 'clarity', 'character', 'turkey', 'angie', 'belaying', 'radium', 'prefaced', 'sinks', 'hall', 'rabbits', 'prince', 'debbie', 'china', 'shipping', 'finger', 'pendulum', 'mass', 'hashtag', 'rabbit', 'ridges', 'support', 'smallest', 'dialect', 'style', 'brilliant', 'reminds', 'untangle', 'knock', 'hunted', 'facts', 'designed', 'mix', 'peter', 'blonde', 'sperry', 'hang', 'zam', 'normally', 'canon', 'f', 'aunt', 'emmanuel', 'biology', 'internet', 'flood', 'fish', 'campus', 'costume', 'april', 'knows', 'tickets', 'turkish', 'coefficient', 'longton', 'total', 'attracted', 'understanding', 'doyle', 'sir', 'improper', 'sherlock', 'adorable', 'confirming', 'animal', 'patio', 'charles', 'bc', 'dare', 'auburn', 'california', 'excuse', 'reusable', 'essays', 'items', 'apples', 'pound', 'gua', 'shaped', 'nicely', 'complain', 'compared', 'curve', 'mocking', 'consideration', 'farther', 'tape', 'novels', 'zeusxual', 'judgment', 'tourists', 'pool', 'advance', 'stroke', 'abraham', 'pucks', 'fortunately', 'numerical', 'vital', 'carries', 'noises', 'colorful', 'darwin', 'duh', 'presents', 'patterns', 'law', 'sassy', 'complaining', 'gravity', 'bu', 'drunk', 'research', 'bleh', 'focus', 'stars', 'wooden', 'gay', 'steal', 'marine', 'earth', 'calls', 'bananas', 'resisting', 'haunted', 'shiny', 'theater', 'bound', 'motion', 'bugs', 'cutest', 'audience', 'conclusion', 'hoodies', 'crock', 'file', 'danger', 'recorded', 'host', 'density', 'modern', 'ordered', 'strayed', 'blazing', 'k', 'derive', 'snap', 'bullshitting', 'suburb', 'papercooks', 'updating', 'pun', 'england', 'timberlake', 'flyers', 'wearing', 'lisee', 'dream', 'poke', 'expensive', 'google', 'experience', 'marked', 'bale', 'heterosexual', 'cal', 'increasing', 'dive', 'arc', 'sister', 'darling', 'traffic', 'yarns', 'church', 'approximating', 'upsetting', 'carry', 'awful', 'holmes', 'holy', 'ink', 'pashto', 'blondes', 'bet', 'quality', 'outfit', 'tits', 'pardon', 'procedure', 'mm', 'eights', 'apologize', 'zhen', 'wife', 'syracuse', 'attempt', 'wind', 'frc', 'smell', 'arabic', 'meet', 'tumblr', 'rope', 'meryl', 'bless', 'murdered', 'smith', 'ecstatic', 'scrub', 'apart', 'meat', 'included', 'assignment', 'mentally', 'mer', 'logically', 'nightgowns', 'ethan', 'secondary', 'population', 'g', 'blazed'}\n",
            "Words exclusive to corpus3: {'load', 'dances', 'joking', 'gear', 'bite', 'borrowing', 'land', 'regatta', 'kicked', 'tries', 'sale', 'wrecked', 'cheers', 'belmont', 'harder', 'harbor', 'arena', 'relaxed', 'selections', 'verify', 'separate', 'rain', 'tile', 'guessed', 'rick', 'mintyland', 'stretches', 'joint', 'barrel', 'scandal', 'king', 'cribs', 'gun', 'thumbs', 'mile', 'thrones', 'sport', 'maine', 'climbing', 'scutitilis', 'city', 'homeland', 'loyola', 'bouncing', 'pagani', 'wolf', 'translated', 'itunes', 'nowhere', 'kick', 'farmland', 'flappy', 'organize', 'knot', 'readings', 'retake', 'interradians', 'counted', 'ios', 'chilly', 'aces', 'jump', 'shoot', 'brandon', 'behind', 'bringing', 'deirdre', 'tangible', 'abandon', 'near', 'taft', 'boarding', 'reputation', 'beat', 'sonny', 'ratings', 'soap', 'hd', 'decide', 'lakeview', 'bounces', 'correction', 'bruised', 'supposedly', 'club', 'borrowed', 'sushi', 'technical', 'brennan', 'cameras', 'loading', 'trailer', 'crew', 'season', 'developer', 'boats', 'schools', 'dune', 'plugging', 'addicting', 'payton', 'columbia', 'planned', 'frames', 'dislike', 'gods', 'pump', 'courses', 'snows', 'tennessee', 'upside', 'cap', 'opera', 'heavey', 'tiny', 'sail', 'wall', 'mccann', 'tricky', 'wreck', 'hill', 'bren', 'chance', 'freiburg'}\n",
            "Words exclusive to corpus4: {'fargo', 'depot', 'delete', 'health', 'raouk', 'viola', 'shitty', 'id', 'differently', 'ranger', 'jealous', 'possibly', 'spine', 'walks', 'acting', 'capacity', 'saving', 'bothering', 'variable', 'coffee', 'pronounce', 'ear', 'trends', 'grand', 'broccoli', 'holm', 'optimized', 'convergence', 'tie', 'discovery', 'mall', 'student', 'quinceañera', 'loud', 'teenager', 'entered', 'hiring', 'teach', 'cylinder', 'jobs', 'wavelength', 'seeing', 'dismissed', 'tau', 'suicide', 'phrase', 'calling', 'alive', 'sabe', 'fg', 'chem', 'deaf', 'graphed', 'changes', 'alex', 'sets', 'curriculum', 'expecting', 'jesus', 'sohcahtoa', 'snowboard', 'pages', 'seventeen', 'landscaping', 'lines', 'tilde', 'consider', 'root', 'sheets', 'died', 'glad', 'teaching', 'replace', 'foster', 'shifted', 'computers', 'pim', 'lookit', 'wrestling', 'doubleheader', 'east', 'west', 'vr', 'web', 'chicago', 'factor', 'scholarship', 'touches', 'video', 'foggy', 'windshield', 'tato', 'hundredths', 'desk', 'ef', 'shortest', 'meant', 'necessarily', 'hates', 'speaking', 'backwards', 'esp', 'code', 'landscape', 'severe', 'badly', 'socialize', 'ai', 'otto', 'henry', 'cuts', 'wells', 'confirmed', 'music', 'screw', 'vons', 'whoever', 'needs', 'links', 'chubb', 'search', 'zooming', 'radix', 'changing', 'crossed', 'programmed', 'signed', 'ajax', 'halt', 'tutoring', 'los', 'calculated', 'oracle', 'denominator', 'gianna', 'collapse', 'station', 'kimikaze', 'cheap', 'graphing', 'american', 'limit', 'decides', 'diagram', 'shifting', 'planning', 'button', 'truth', 'wednesday', 'discounts', 'kimisabe', 'pam', 'asynchronous', 'achievements', 'restaurant', 'taller', 'periodic', 'relative', 'saved', 'security', 'useful', 'drag', 'stats', 'direction', 'lies', 'ben', 'rental', 'mainly', 'cases', 'wage', 'typing', 'noise', 'reduced', 'bronco', 'regret', 'err', 'scaling', 'versailles', 'experiment', 'waste', 'restaurants', 'stopped', 'squatting', 'pedido', 'feed', 'hide', 'normal', 'tangent', 'ago', 'stipend', 'malls', 'hashi', 'helping', 'spinal', 'ect', 'melissa', 'penny', 'html', 'parent', 'whether', 'coldplay', 'approximate', 'headphones', 'sixteen', 'interview', 'acts', 'careers', 'crap', 'equivalent', 'bridal', 'chorus', 'height', 'cord', 'horizontal', 'bands', 'lower', 'ratchet', 'vans', 'lone', 'exicles', 'benefits', 'dies', 'anchor', 'menthol', 'initially', 'vertical', 'contest', 'chemistry', 'raise', 'squat', 'smoothie', 'finnelli', 'mic', 'свое', 'blizzard', 'business', 'rectangle', 'emails', 'busy', 'sell', 'alec', 'chuck', 'exists', 'bitch', 'besides', 'thighs', 'colder', 'irish', 'quien', 'muscular', 'update', 'costs', 'discover', 'hoarding', 'separated', 'senior', 'dipped', 'ampere', 'daughters', 'clubs', 'copy', 'p', 'vary', 'letting', 'tim', 'electronics', 'rounding', 'tapers', 'palos', 'semantics', 'famous', 'fanali', 'templates', 'arts', 'legit', 'misquotable', 'boxes', 'subtracting', 'posture', 'waiting', 'requiring', 'respond', 'function', 'welcome', 'die', 'wasted', 'irresponsibly', 'converted', 'disney', 'php', 'concerned', 'th', 'commit', 'excellent', 'phase', 'shift', 'idiot', 'joseph', 'geometric', 'reverse', 'crowds', 'unfortunate', 'legally', 'northwest', 'patience', 'fight', 'dry', 'drank', 'parameter', 'hired', 'keys', 'dork', 'practically', 'woods', 'mistake', 'hospital', 'dystrophy', 'stores', 'fan', 'topic', 'camp', 'south', 'throw', 'whereas', 'spanish', 'ghetto', 'gamestop', 'velaski', 'advised', 'mistakes', 'toronto', 'josh', 'theory', 'raising', 'conflicted', 'shoe', 'snowed', 'hire', 'yell', 'knowing', 'coding', 'luck', 'muscles', 'squiggles', 'academic', 'discount', 'lit', 'symmetry', 'unloader', 'average', 'barely', 'clothing', 'crappy', 'stern', 'rushed', 'role', 'david', 'squiggle', 'despair', 'extrapolate', 'internship', 'bases', 'layers', 'servers', 'cleaning', 'drops', 'bribing', 'western', 'design', 'killed', 'violas', 'resume', 'essentials', 'tops', 'javascript', 'goal', 'hb'}\n",
            "Words exclusive to corpus5: {'brian', 'crush', 'experienced', 'laptop', 'arrived', 'chantaratas', 'dvd', 'madam', 'weighty', 'response', 'algebra', 'japan', 'burning', 'concept', 'doges', 'grabbing', 'destroys', 'slash', 'privacy', 'rejuvenated', 'z', 'becomes', 'tracking', 'longest', 'softest', 'stretching', 'converges', 'signs', 'tail', 'hideout', 'width', 'restricted', 'milwaukee', 'monkey', 'melco', 'speaker', 'lauria', 'treated', 'orchard', 'threatened', 'pressure', 'mathematics', 'vga', 'exciting', 'critical', 'officially', 'fixed', 'warfare', 'tight', 'aside', 'peace', 'moderating', 'realization', 'sharp', 'fluffy', 'formal', 'racist', 'regrows', 'members', 'shiba', 'rule', 'cram', 'purple', 'restricting', 'peeled', 'breach', 'pit', 'bright', 'enjoyment', 'overloaded', 'temple', 'expression', 'larger', 'immediately', 'extent', 'wolfram', 'fantastic', 'describing', 'galactus', 'division', 'clit', 'hdmi', 'subjects', 'hello', 'encountered', 'inus', 'planet', 'laugh', 'calculation', 'gorilla', 'ultram', 'legitimate', 'crunch', 'shaded', 'hashtage', 'hallway', 'stoics', 'kai', 'parenthesis', 'doge', 'purposes', 'overestimate', 'evolve', 'roadblocks', 'ha', 'lang', 'rested', 'abilities', 'attributing', 'petzl', 'scheduled', 'blow', 'yielded', 'dedication', 'stoic', 'calculators', 'globe', 'dog', 'spend', 'maximum', 'reached', 'studied', 'da', 'leftover', 'deep', 'camera', 'bother', 'blend', 'takeoff', 'corner', 'dragon', 'excitement', 'rows', 'milestone', 'abu', 'choice', 'breathe', 'calculating', 'brain', 'simply', 'proved'}\n",
            "Words exclusive to corpus6: {'attend', 'mindset', 'claudia', 'vegetarian', 'binder', 'zena', 'commitment', 'approved', 'cheering', 'agreement', 'induction', 'weirder', 'acd', 'congrats', 'chris', 'relationships', 'bashing', 'clicked', 'medicine', 'wavy', 'workkeys', 'areas', 'finale', 'lulu', 'center', 'tour', 'equipment', 'plummeted', 'bs', 'accent', 'mildly', 'advice', 'involved', 'spiders', 'fire', 'containers', 'susan', 'electronically', 'bomb', 'ran', 'cars', 'warehouse', 'mit', 'joined', 'aggressively', 'event', 'waves', 'borderless', 'atonements', 'uber', 'situations', 'oprah', 'coach', 'varsity', 'miami', 'manager', 'national', 'standardized', 'assumed', 'coordinate', 'include', 'text', 'adam', 'message', 'selling', 'vocab', 'poem', 'sees', 'mensa', 'meetings', 'ambitious', 'parks', 'valesky', 'medal', 'snapchats', 'sometime', 'brief', 'culminating', 'action', 'silent', 'cards', 'blame', 'whatsoever', 'specified', 'wraps', 'hearing', 'french', 'passively', 'stress', 'mr', 'teammates', 'razor', 'deva', 'fortunate', 'hemp', 'novio', 'surrounded', 'henneker', 'impressed', 'iridium', 'cave', 'marta', 'snag', 'colloquial', 'natalie', 'mediocre', 'counselor', 'extras', 'mary', 'checking', 'grabs', 'pe', 'ph', 'donna', 'rowling', 'yield', 'dot', 'truly', 'delayed', 'excluding', 'rules', 'trough', 'honey', 'cape', 'save', 'smelled', 'community', 'trips', 'area', 'missing', 'slipping', 'walking', 'novios', 'myth', 'harvard', 'memorize', 'accidentally', 'runkle', 'dina', 'cheating', 'cm', 'consistently', 'iridiums', 'visiting', 'sew', 'youtube', 'crushed', 'davis', 'florida', 'students', 'seats', 'paint', 'beyond', 'radiation', 'powerhouse', 'morgan', 'passion', 'pertain', 'idaho', 'memorized', 'graphable', 'iq', 'factors', 'mankind', 'swelled', 'dating', 'border', 'padu', 'june', 'ivy', 'absolutely', 'madame', 'miserable', 'sophie', 'terribly', 'mist', 'preschool', 'cb', 'pull', 'field', 'flashcard', 'bathroom', 'neither', 'megan', 'sensors', 'system', 'mother', 'treating', 'overshooting', 'sweet', 'sentimental', 'julie', 'insistent', 'dropping', 'preschools', 'psyched', 'whips', 'month', 'spirit', 'forgets', 'lots', 'gabe', 'claire', 'kaplan', 'survey', 'bianco', 'stressed', 'shadows', 'submit', 'sports', 'pack', 'organized', 'edge', 'aj', 'annoyed', 'thinner', 'tux', 'presidents', 'stood', 'snacks', 'discussing', 'rubbed', 'graduation', 'waiver', 'jumped', 'northside', 'vibe', 'advisor', 'schedule', 'quicker', 'train', 'voice', 'tab', 'ton', 'eee', 'automatically', 'counseling', 'pregnant', 'initial', 'inducted', 'median', 'flashcards', 'grad', 'prize', 'arrogant', 'skin', 'smells', 'strings', 'palm', 'poison', 'michael', 'stressful', 'wears', 'icg', 'drinking', 'caesar', 'proofs', 'soccer', 'disoriented', 'bo', 'presentation', 'tom', 'grabbed', 'fort', 'intern', 'situation', 'proceed', 'subtraction', 'cares', 'adrian', 'split', 'malcolm', 'collect', 'state', 'tax', 'ride', 'eating', 'spread', 'history', 'option', 'gus', 'recs', 'subject', 'core', 'walt', 'woohoo', 'tigger', 'counting', 'llamas', 'dammit', 'leagues', 'snowing', 'beach', 'riding', 'post', 'admit', 'attribute', 'sharks', 'jeff', 'attentive', 'pacing', 'stressing', 'supplements', 'bites', 'society', 'activity', 'warn', 'plane', 'paris', 'tons', 'fowners', 'condone', 'human', 'sag', 'tino', 'rep', 'hostile', 'map', 'gross', 'intellectual', 'semicolons', 'diane', 'showing', 'hughes', 'symmetrical', 'cheated', 'worried', 'overthink', 'committee', 'sweat', 'wild', 'farajaka', 'speech', 'alone', 'commentator', 'assess', 'temporary', 'winning', 'stack', 'personally', 'date', 'boat', 'ceremony', 'sarasota', 'sending', 'lawyer', 'andy', 'colleges', 'confidence', 'widely', 'sabrina', 'lucy', 'zipper', 'bella', 'bed', 'activities', 'news', 'sines', 'commas', 'balance', 'conflict', 'format', 'banned'}\n",
            "Words exclusive to corpus7: {'philadelphia', 'dinner', 'corners', 'thingy', 'comes', 'colorblind', 'silly', 'questioning', 'register', 'legend', 'asthma', 'waffles', 'helps', 'forward', 'easily', 'repeat', 'family', 'batting', 'gum', 'victor', 'aim', 'cause', 'pitcher', 'likes', 'lives', 'soil', 'pressing', 'shot', 'enthused', 'prefer', 'depressed', 'condition', 'moped', 'mixed', 'invest', 'fingers', 'mexican', 'bat', 'requesting', 'halves', 'practicing', 'wheels', 'scary', 'abnormally', 'friendship', 'politician', 'muck', 'retired', 'react', 'soda', 'leg', 'hurting', 'firsts', 'jerk', 'academy', 'dropped', 'allergies', 'premium', 'sec', 'quids', 'redo', 'watching', 'starting', 'chino', 'ate', 'quiet', 'milk', 'waist', 'pocket', 'anu', 'derivative', 'major', 'misread', 'disgusting', 'raped', 'swings', 'sketchy', 'ignore', 'erased', 'player', 'motherland', 'ruler', 'fail', 'colombian', 'moments', 'fab', 'lamination', 'shorten', 'cinnamon', 'hurry', 'batted', 'breaking', 'talent', 'fop', 'turning', 'aquamarine', 'low', 'dip', 'higher', 'rode', 'boring', 'phone', 'willis', 'iron', 'bags', 'reach', 'mcy', 'swollen', 'ec', 'request', 'extremely', 'intersects', 'honesty', 'breakfast', 'header', 'arthur', 'attacks', 'sams', 'lefty', 'pen', 'irrational', 'kill', 'subversion', 'space', 'radio', 'chill', 'tattoo', 'scene', 'falling', 'peoples', 'evening', 'pitching', 'wheel', 'darryl', 'swam', 'agustin', 'pitchers', 'squad', 'warmup', 'skip', 'lying', 'rubbing', 'ow', 'revolution', 'wide', 'younger', 'hat', 'bluish', 'poster', 'speak', 'hispanic', 'impact', 'doctor', 'prof', 'pitch', 'mid', 'microphones', 'acc', 'kinda', 'stacy', 'catch', 'price', 'jackson', 'childhood', 'hating', 'others', 'stranger', 'paying', 'wrist', 'policy', 'cubbywog', 'vote', 'spoken', 'owie', 'green', 'country', 'wore', 'fault', 'record', 'holes', 'bruise', 'interpreted', 'angelo', 'complicated', 'graduate', 'introduce', 'similarities', 'plays', 'jake', 'bogus', 'somewhat', 'ouch', 'scenarios', 'imagined', 'trait', 'ruin', 'swimming', 'bullcrap', 'unlike', 'harsh', 'baseball', 'rifle', 'shower', 'conversations', 'threes', 'card', 'finally', 'album', 'growing', 'omo', 'italian', 'gorgeous', 'clockwise', 'explicitly', 'paradoxical', 'target', 'red', 'muffy', 'bragging', 'manual', 'specific', 'wanting', 'standard', 'ankle', 'block', 'threw', 'favor', 'shack', 'harrison', 'thirsty', 'softball', 'restart', 'shrimp', 'intercept', 'window', 'pink', 'vacation', 'candy', 'impersonation', 'perfection', 'amount', 'alley', 'midpoint', 'liar', 'feelings', 'air', 'sick'}\n"
          ]
        }
      ],
      "source": [
        "# Example dictionary containing word tokens for 7 different corpora\n",
        "corpora_tokens = {\n",
        "    \"corpus1\": set(word_tokens_corpus1),\n",
        "    \"corpus2\": set(word_tokens_corpus2),\n",
        "    \"corpus3\": set(word_tokens_corpus3),\n",
        "    \"corpus4\": set(word_tokens_corpus4),\n",
        "    \"corpus5\": set(word_tokens_corpus5),\n",
        "    \"corpus6\": set(word_tokens_corpus6),\n",
        "    \"corpus7\": set(word_tokens_corpus7),\n",
        "}\n",
        "\n",
        "# Function to find words unique to each corpus compared to others\n",
        "def find_unique_words(corpora_tokens):\n",
        "    unique_words = {}\n",
        "    for corpus_name, tokens in corpora_tokens.items():\n",
        "        # Start with the current corpus tokens\n",
        "        other_tokens = set(tokens)\n",
        "        # Remove the current corpus tokens from the comparison set\n",
        "        for other_corpus_name, other_corpus_tokens in corpora_tokens.items():\n",
        "            if corpus_name != other_corpus_name:\n",
        "                other_tokens -= other_corpus_tokens\n",
        "        unique_words[corpus_name] = other_tokens\n",
        "    return unique_words\n",
        "\n",
        "# Find words unique to each corpus\n",
        "unique_words_by_corpus = find_unique_words(corpora_tokens)\n",
        "\n",
        "# Print unique words for each corpus\n",
        "for corpus_name, unique_words in unique_words_by_corpus.items():\n",
        "    print(f\"Words exclusive to {corpus_name}:\", unique_words)\n"
      ]
    },
    {
      "cell_type": "markdown",
      "metadata": {
        "id": "fCiEPt2DukPB"
      },
      "source": [
        "# TFA 7 Sentiment Analysis needs work"
      ]
    },
    {
      "cell_type": "code",
      "execution_count": 36,
      "metadata": {
        "id": "KC49ij38ukPB",
        "colab": {
          "base_uri": "https://localhost:8080/",
          "height": 373
        },
        "outputId": "c2577d02-0022-4900-e1b0-c567c52de939"
      },
      "outputs": [
        {
          "output_type": "stream",
          "name": "stderr",
          "text": [
            "[nltk_data] Downloading package vader_lexicon to /root/nltk_data...\n"
          ]
        },
        {
          "output_type": "error",
          "ename": "AttributeError",
          "evalue": "'list' object has no attribute 'encode'",
          "traceback": [
            "\u001b[0;31m---------------------------------------------------------------------------\u001b[0m",
            "\u001b[0;31mAttributeError\u001b[0m                            Traceback (most recent call last)",
            "\u001b[0;32m<ipython-input-36-c368855bbb2c>\u001b[0m in \u001b[0;36m<cell line: 13>\u001b[0;34m()\u001b[0m\n\u001b[1;32m     11\u001b[0m \u001b[0;31m# Analyzing sentiment for the early and late files\u001b[0m\u001b[0;34m\u001b[0m\u001b[0;34m\u001b[0m\u001b[0m\n\u001b[1;32m     12\u001b[0m \u001b[0;31m# Assuming 'cleaned_early_GSQText' and 'cleaned_late_GSQText' are strings containing your cleaned text\u001b[0m\u001b[0;34m\u001b[0m\u001b[0;34m\u001b[0m\u001b[0m\n\u001b[0;32m---> 13\u001b[0;31m \u001b[0msentiment_corpus1\u001b[0m \u001b[0;34m=\u001b[0m \u001b[0manalyze_sentiment\u001b[0m\u001b[0;34m(\u001b[0m\u001b[0mcleaned_sentences_corpus1\u001b[0m\u001b[0;34m)\u001b[0m\u001b[0;34m\u001b[0m\u001b[0;34m\u001b[0m\u001b[0m\n\u001b[0m\u001b[1;32m     14\u001b[0m \u001b[0msentiment_corpus2\u001b[0m \u001b[0;34m=\u001b[0m \u001b[0manalyze_sentiment\u001b[0m\u001b[0;34m(\u001b[0m\u001b[0mcleaned_sentences_corpus2\u001b[0m\u001b[0;34m)\u001b[0m\u001b[0;34m\u001b[0m\u001b[0;34m\u001b[0m\u001b[0m\n\u001b[1;32m     15\u001b[0m \u001b[0msentiment_corpus3\u001b[0m \u001b[0;34m=\u001b[0m \u001b[0manalyze_sentiment\u001b[0m\u001b[0;34m(\u001b[0m\u001b[0mcleaned_sentences_corpus3\u001b[0m\u001b[0;34m)\u001b[0m\u001b[0;34m\u001b[0m\u001b[0;34m\u001b[0m\u001b[0m\n",
            "\u001b[0;32m<ipython-input-36-c368855bbb2c>\u001b[0m in \u001b[0;36manalyze_sentiment\u001b[0;34m(text)\u001b[0m\n\u001b[1;32m      6\u001b[0m \u001b[0;32mdef\u001b[0m \u001b[0manalyze_sentiment\u001b[0m\u001b[0;34m(\u001b[0m\u001b[0mtext\u001b[0m\u001b[0;34m)\u001b[0m\u001b[0;34m:\u001b[0m\u001b[0;34m\u001b[0m\u001b[0;34m\u001b[0m\u001b[0m\n\u001b[1;32m      7\u001b[0m     \u001b[0msia\u001b[0m \u001b[0;34m=\u001b[0m \u001b[0mSentimentIntensityAnalyzer\u001b[0m\u001b[0;34m(\u001b[0m\u001b[0;34m)\u001b[0m\u001b[0;34m\u001b[0m\u001b[0;34m\u001b[0m\u001b[0m\n\u001b[0;32m----> 8\u001b[0;31m     \u001b[0msentiment\u001b[0m \u001b[0;34m=\u001b[0m \u001b[0msia\u001b[0m\u001b[0;34m.\u001b[0m\u001b[0mpolarity_scores\u001b[0m\u001b[0;34m(\u001b[0m\u001b[0mtext\u001b[0m\u001b[0;34m)\u001b[0m\u001b[0;34m\u001b[0m\u001b[0;34m\u001b[0m\u001b[0m\n\u001b[0m\u001b[1;32m      9\u001b[0m     \u001b[0;32mreturn\u001b[0m \u001b[0msentiment\u001b[0m\u001b[0;34m\u001b[0m\u001b[0;34m\u001b[0m\u001b[0m\n\u001b[1;32m     10\u001b[0m \u001b[0;34m\u001b[0m\u001b[0m\n",
            "\u001b[0;32m/usr/local/lib/python3.10/dist-packages/nltk/sentiment/vader.py\u001b[0m in \u001b[0;36mpolarity_scores\u001b[0;34m(self, text)\u001b[0m\n\u001b[1;32m    364\u001b[0m         \"\"\"\n\u001b[1;32m    365\u001b[0m         \u001b[0;31m# text, words_and_emoticons, is_cap_diff = self.preprocess(text)\u001b[0m\u001b[0;34m\u001b[0m\u001b[0;34m\u001b[0m\u001b[0m\n\u001b[0;32m--> 366\u001b[0;31m         sentitext = SentiText(\n\u001b[0m\u001b[1;32m    367\u001b[0m             \u001b[0mtext\u001b[0m\u001b[0;34m,\u001b[0m \u001b[0mself\u001b[0m\u001b[0;34m.\u001b[0m\u001b[0mconstants\u001b[0m\u001b[0;34m.\u001b[0m\u001b[0mPUNC_LIST\u001b[0m\u001b[0;34m,\u001b[0m \u001b[0mself\u001b[0m\u001b[0;34m.\u001b[0m\u001b[0mconstants\u001b[0m\u001b[0;34m.\u001b[0m\u001b[0mREGEX_REMOVE_PUNCTUATION\u001b[0m\u001b[0;34m\u001b[0m\u001b[0;34m\u001b[0m\u001b[0m\n\u001b[1;32m    368\u001b[0m         )\n",
            "\u001b[0;32m/usr/local/lib/python3.10/dist-packages/nltk/sentiment/vader.py\u001b[0m in \u001b[0;36m__init__\u001b[0;34m(self, text, punc_list, regex_remove_punctuation)\u001b[0m\n\u001b[1;32m    268\u001b[0m     \u001b[0;32mdef\u001b[0m \u001b[0m__init__\u001b[0m\u001b[0;34m(\u001b[0m\u001b[0mself\u001b[0m\u001b[0;34m,\u001b[0m \u001b[0mtext\u001b[0m\u001b[0;34m,\u001b[0m \u001b[0mpunc_list\u001b[0m\u001b[0;34m,\u001b[0m \u001b[0mregex_remove_punctuation\u001b[0m\u001b[0;34m)\u001b[0m\u001b[0;34m:\u001b[0m\u001b[0;34m\u001b[0m\u001b[0;34m\u001b[0m\u001b[0m\n\u001b[1;32m    269\u001b[0m         \u001b[0;32mif\u001b[0m \u001b[0;32mnot\u001b[0m \u001b[0misinstance\u001b[0m\u001b[0;34m(\u001b[0m\u001b[0mtext\u001b[0m\u001b[0;34m,\u001b[0m \u001b[0mstr\u001b[0m\u001b[0;34m)\u001b[0m\u001b[0;34m:\u001b[0m\u001b[0;34m\u001b[0m\u001b[0;34m\u001b[0m\u001b[0m\n\u001b[0;32m--> 270\u001b[0;31m             \u001b[0mtext\u001b[0m \u001b[0;34m=\u001b[0m \u001b[0mstr\u001b[0m\u001b[0;34m(\u001b[0m\u001b[0mtext\u001b[0m\u001b[0;34m.\u001b[0m\u001b[0mencode\u001b[0m\u001b[0;34m(\u001b[0m\u001b[0;34m\"utf-8\"\u001b[0m\u001b[0;34m)\u001b[0m\u001b[0;34m)\u001b[0m\u001b[0;34m\u001b[0m\u001b[0;34m\u001b[0m\u001b[0m\n\u001b[0m\u001b[1;32m    271\u001b[0m         \u001b[0mself\u001b[0m\u001b[0;34m.\u001b[0m\u001b[0mtext\u001b[0m \u001b[0;34m=\u001b[0m \u001b[0mtext\u001b[0m\u001b[0;34m\u001b[0m\u001b[0;34m\u001b[0m\u001b[0m\n\u001b[1;32m    272\u001b[0m         \u001b[0mself\u001b[0m\u001b[0;34m.\u001b[0m\u001b[0mPUNC_LIST\u001b[0m \u001b[0;34m=\u001b[0m \u001b[0mpunc_list\u001b[0m\u001b[0;34m\u001b[0m\u001b[0;34m\u001b[0m\u001b[0m\n",
            "\u001b[0;31mAttributeError\u001b[0m: 'list' object has no attribute 'encode'"
          ]
        }
      ],
      "source": [
        "import nltk\n",
        "from nltk.sentiment import SentimentIntensityAnalyzer\n",
        "\n",
        "nltk.download('vader_lexicon')\n",
        "\n",
        "def analyze_sentiment(text):\n",
        "    sia = SentimentIntensityAnalyzer()\n",
        "    sentiment = sia.polarity_scores(text)\n",
        "    return sentiment\n",
        "\n",
        "# Analyzing sentiment for the early and late files\n",
        "# Assuming 'cleaned_early_GSQText' and 'cleaned_late_GSQText' are strings containing your cleaned text\n",
        "sentiment_corpus1 = analyze_sentiment(cleaned_sentences_corpus1)\n",
        "sentiment_corpus2 = analyze_sentiment(cleaned_sentences_corpus2)\n",
        "sentiment_corpus3 = analyze_sentiment(cleaned_sentences_corpus3)\n",
        "sentiment_corpus4 = analyze_sentiment(cleaned_sentences_corpus4)\n",
        "sentiment_corpus5 = analyze_sentiment(cleaned_sentences_corpus5)\n",
        "sentiment_corpus6 = analyze_sentiment(cleaned_sentences_corpus6)\n",
        "sentiment_corpus7 = analyze_sentiment(cleaned_sentences_corpus7)\n",
        "\n",
        "print(\"Sentiment for Corpus 1:\", sentiment_corpus1)\n",
        "print(\"Sentiment for Corpus 2:\", sentiment_corpus2)\n",
        "print(\"Sentiment for Corpus 3:\", sentiment_corpus3)\n",
        "print(\"Sentiment for Corpus 4:\", sentiment_corpus4)\n",
        "print(\"Sentiment for Corpus 5:\", sentiment_corpus5)\n",
        "print(\"Sentiment for Corpus 6:\", sentiment_corpus6)\n",
        "print(\"Sentiment for Corpus 7:\", sentiment_corpus7)"
      ]
    },
    {
      "cell_type": "markdown",
      "metadata": {
        "id": "9m3IYgnmukPB"
      },
      "source": [
        "# TFA 8 Lexical Dispersion still doesn't seem to work correctly"
      ]
    },
    {
      "cell_type": "code",
      "execution_count": 39,
      "metadata": {
        "id": "zLvxm0nYukPB",
        "outputId": "7ec85db7-0ce9-42c5-bf64-38f0be53ff65",
        "colab": {
          "base_uri": "https://localhost:8080/",
          "height": 1000
        }
      },
      "outputs": [
        {
          "output_type": "display_data",
          "data": {
            "text/plain": [
              "<Figure size 1200x400 with 0 Axes>"
            ]
          },
          "metadata": {}
        },
        {
          "output_type": "display_data",
          "data": {
            "text/plain": [
              "<Figure size 640x480 with 1 Axes>"
            ],
            "image/png": "[encoded data removed]"
          },
          "metadata": {}
        },
        {
          "output_type": "display_data",
          "data": {
            "text/plain": [
              "<Figure size 1200x400 with 0 Axes>"
            ]
          },
          "metadata": {}
        },
        {
          "output_type": "display_data",
          "data": {
            "text/plain": [
              "<Figure size 640x480 with 1 Axes>"
            ],
            "image/png": "[encoded data removed]"
          },
          "metadata": {}
        },
        {
          "output_type": "display_data",
          "data": {
            "text/plain": [
              "<Figure size 1200x400 with 0 Axes>"
            ]
          },
          "metadata": {}
        },
        {
          "output_type": "display_data",
          "data": {
            "text/plain": [
              "<Figure size 640x480 with 1 Axes>"
            ],
            "image/png": "[encoded data removed]"
          },
          "metadata": {}
        },
        {
          "output_type": "display_data",
          "data": {
            "text/plain": [
              "<Figure size 1200x400 with 0 Axes>"
            ]
          },
          "metadata": {}
        },
        {
          "output_type": "display_data",
          "data": {
            "text/plain": [
              "<Figure size 640x480 with 1 Axes>"
            ],
            "image/png": "[encoded data removed]"
          },
          "metadata": {}
        },
        {
          "output_type": "display_data",
          "data": {
            "text/plain": [
              "<Figure size 1200x400 with 0 Axes>"
            ]
          },
          "metadata": {}
        },
        {
          "output_type": "display_data",
          "data": {
            "text/plain": [
              "<Figure size 640x480 with 1 Axes>"
            ],
            "image/png": "[encoded data removed]"
          },
          "metadata": {}
        },
        {
          "output_type": "display_data",
          "data": {
            "text/plain": [
              "<Figure size 1200x400 with 0 Axes>"
            ]
          },
          "metadata": {}
        },
        {
          "output_type": "display_data",
          "data": {
            "text/plain": [
              "<Figure size 640x480 with 1 Axes>"
            ],
            "image/png": "[encoded data removed]"
          },
          "metadata": {}
        },
        {
          "output_type": "display_data",
          "data": {
            "text/plain": [
              "<Figure size 1200x400 with 0 Axes>"
            ]
          },
          "metadata": {}
        },
        {
          "output_type": "display_data",
          "data": {
            "text/plain": [
              "<Figure size 640x480 with 1 Axes>"
            ],
            "image/png": "[encoded data removed]"
          },
          "metadata": {}
        }
      ],
      "source": [
        "import nltk\n",
        "import matplotlib.pyplot as plt\n",
        "from nltk.text import Text\n",
        "\n",
        "# List of words to examine\n",
        "target_words = ['pi', 'radian', 'circle', 'help', 'add']  # Modify this list as needed\n",
        "\n",
        "# Generate dispersion plot for each text corpus\n",
        "plt.figure(figsize=(12, 4))\n",
        "text_objects_corpus1.dispersion_plot(target_words)\n",
        "plt.title(\"Lexical Dispersion Plot in Corpus 1\")\n",
        "plt.show()\n",
        "\n",
        "plt.figure(figsize=(12, 4))\n",
        "text_objects_corpus2.dispersion_plot(target_words)\n",
        "plt.title(\"Lexical Dispersion Plot in Corpus 2\")\n",
        "plt.show()\n",
        "\n",
        "plt.figure(figsize=(12, 4))\n",
        "text_objects_corpus3.dispersion_plot(target_words)\n",
        "plt.title(\"Lexical Dispersion Plot in Corpus 3\")\n",
        "plt.show()\n",
        "\n",
        "plt.figure(figsize=(12, 4))\n",
        "text_objects_corpus4.dispersion_plot(target_words)\n",
        "plt.title(\"Lexical Dispersion Plot in Corpus 4\")\n",
        "plt.show()\n",
        "\n",
        "plt.figure(figsize=(12, 4))\n",
        "text_objects_corpus5.dispersion_plot(target_words)\n",
        "plt.title(\"Lexical Dispersion Plot in Corpus 5\")\n",
        "plt.show()\n",
        "\n",
        "plt.figure(figsize=(12, 4))\n",
        "text_objects_corpus6.dispersion_plot(target_words)\n",
        "plt.title(\"Lexical Dispersion Plot in Corpus 6\")\n",
        "plt.show()\n",
        "\n",
        "plt.figure(figsize=(12, 4))\n",
        "text_objects_corpus7.dispersion_plot(target_words)\n",
        "plt.title(\"Lexical Dispersion Plot in Corpus 7\")\n",
        "plt.show()"
      ]
    },
    {
      "cell_type": "markdown",
      "metadata": {
        "id": "IyCTCbltukPE"
      },
      "source": [
        "NLTK Text Objects"
      ]
    },
    {
      "cell_type": "code",
      "execution_count": 37,
      "metadata": {
        "id": "85IBdCw8ukPE",
        "outputId": "8cf18bf9-1b84-4285-ae32-37bdc198cf8d",
        "colab": {
          "base_uri": "https://localhost:8080/"
        }
      },
      "outputs": [
        {
          "output_type": "stream",
          "name": "stdout",
          "text": [
            "spring break; decimal places; fake quiz; early yesterday; two decimal;\n",
            "little bit; knew part; wanted figure; went prom; negative know; since\n",
            "know; sure going; taking quiz; one see; kim going; weekend going;\n",
            "sleep like; like dress; like next; going like\n",
            "None\n",
            "bye bye; sorry sorry; wimp wimp; good job; extra part; giving giving;\n",
            "let see; high dive; rahman emmanuel; one radius; back side; find\n",
            "proportion; making fun; meryl meryl; life model; life motto; walk\n",
            "around; justin timberlake; radius fits; proportion one\n",
            "None\n",
            "know know; last year; first time; eight bounces; king hill; pay\n",
            "attention; flappy golf; joint team; done unit; add third; science\n",
            "part; third bottom; way gon; harder thought; summer break; says exact;\n",
            "tomorrow thursday; grade school; might want; done yet\n",
            "None\n",
            "know know; thank thank; little bit; sorry sorry; plus plus; inverse\n",
            "cosine; change stats; lone ranger; never mind; half period; one one;\n",
            "muscular dystrophy; web servers; bit difficult; gym gon; make sense;\n",
            "degrees radians; six six; henry henry; okay okay\n",
            "None\n",
            "orchard hideout; little bit; broke temple; extended response; plus\n",
            "plus; around circle; extra part; later later; yeah yeah; fit around;\n",
            "longest easter; pay attention; warfare melco; radii fit; thank thank;\n",
            "three added; dragon ball; gas stoics; immediately went; might want\n",
            "None\n",
            "six six; thank thank; still ready; sure sure; give hard; hard third;\n",
            "view home; big big; third one; last year; fit around; feel like;\n",
            "little bit; north park; ready like; weird weird; going ambitious;\n",
            "makes sense; walt walt; counseling intern\n",
            "None\n",
            "sorry sorry; extra part; yeah yeah; put put; buy car; mess gon; last\n",
            "year; cut thingy; know know; fits extra; take mine; hot wheels; good\n",
            "job; slow pitch; fit around; angular speed; ankle bat; best policy;\n",
            "honesty best; pressing buttons\n",
            "None\n"
          ]
        },
        {
          "output_type": "stream",
          "name": "stderr",
          "text": [
            "[nltk_data] Downloading package stopwords to /root/nltk_data...\n",
            "[nltk_data]   Package stopwords is already up-to-date!\n"
          ]
        }
      ],
      "source": [
        "import nltk\n",
        "nltk.download('stopwords')\n",
        "\n",
        "print(text_objects_corpus1.collocations())\n",
        "print(text_objects_corpus2.collocations())\n",
        "print(text_objects_corpus3.collocations())\n",
        "print(text_objects_corpus4.collocations())\n",
        "print(text_objects_corpus5.collocations())\n",
        "print(text_objects_corpus6.collocations())\n",
        "print(text_objects_corpus7.collocations())"
      ]
    },
    {
      "cell_type": "markdown",
      "metadata": {
        "id": "N5BuVXajukPE"
      },
      "source": [
        "# TFA Concordance"
      ]
    },
    {
      "cell_type": "code",
      "execution_count": 38,
      "metadata": {
        "id": "mm0rsJyeukPE",
        "outputId": "71f1de4f-47f9-4322-d0f2-07a2d905a32d",
        "colab": {
          "base_uri": "https://localhost:8080/"
        }
      },
      "outputs": [
        {
          "output_type": "stream",
          "name": "stdout",
          "text": [
            "Displaying 1 of 1 matches:\n",
            "nk thing divide anyone different form pi equal x wanted figure radians angle r\n",
            "None\n",
            "Displaying 25 of 42 matches:\n",
            "adius normally learned diameter times pi circumference two radius case means p\n",
            "i circumference two radius case means pi add diameter going times since dividi\n",
            "nce dividing diameter two going twice pi yeah still go around understand yes s\n",
            "h think got wait derive get well mean pi know find sorry wait confused well fi\n",
            "d got oh yeah looking extra part mean pi know put still understand b find prop\n",
            " every time approximately exactly got pi oh always going angle radian approxim\n",
            " radian approximately got exactly say pi pi divided pi yeah divided pi makes s\n",
            "dian approximately got exactly say pi pi divided pi yeah divided pi makes sens\n",
            "imately got exactly say pi pi divided pi yeah divided pi makes sense yeah look\n",
            "tly say pi pi divided pi yeah divided pi makes sense yeah look circle radius w\n",
            "re know says exact radians mean leave pi yeah go cool right cool think right d\n",
            "ool think right divided oh multiplied pi radian equal degrees approximately ap\n",
            "o radians degrees would degrees times pi oh got hand confirm solve x get two d\n",
            "x get two degrees would degrees times pi degrees times think yeah sounds right\n",
            "et say degrees hold divide divide two pi well yeah two degrees two pi degrees \n",
            "vide two pi well yeah two degrees two pi degrees two pi get face degrees oh da\n",
            "l yeah two degrees two pi degrees two pi get face degrees oh damn degrees time\n",
            "ace degrees oh damn degrees times two pi inverse would wait degrees times degr\n",
            "ait degrees times degrees divided two pi got improper kidding kidding kidding \n",
            "thinking well using would need divide pi really dumb right yes make another k \n",
            "ny know goes another way know exactly pi radii fit around circle confusing kno\n",
            " equation circle know equation circle pi r right right know little extra point\n",
            "g well diameter right point something pi multiply like times pi point somethin\n",
            "oint something pi multiply like times pi point something okay point know pi pi\n",
            "es pi point something okay point know pi pi times pi around pi times oh yeah o\n",
            "None\n",
            "Displaying 25 of 30 matches:\n",
            "e oh maybe read entire question right pi wow think brandon yeah thinking yeah \n",
            " says verify well think ratio degrees pi radians x angle degrees theta angle r\n",
            "iply explain yeah around degrees also pi radians yeah pi radians yeah get deci\n",
            "h around degrees also pi radians yeah pi radians yeah get decimal oh good nice\n",
            "radians says exact radians mean leave pi use get decimals use decimals add thi\n",
            "ld multiply would right would go like pi sixth pi pi would quarter pi going wo\n",
            "ly would right would go like pi sixth pi pi would quarter pi going would pi ye\n",
            "would right would go like pi sixth pi pi would quarter pi going would pi yeah \n",
            " go like pi sixth pi pi would quarter pi going would pi yeah oh pi get oh yeah\n",
            "th pi pi would quarter pi going would pi yeah oh pi get oh yeah wait get wait \n",
            "uld quarter pi going would pi yeah oh pi get oh yeah wait get wait would pi di\n",
            "oh pi get oh yeah wait get wait would pi divided pi divided okay multiply woul\n",
            "h yeah wait get wait would pi divided pi divided okay multiply would oh true o\n",
            "ply would oh true okay plus think two pi radians whole circle half circle usin\n",
            "got yes right yeah okay portion seven pi seven pi wait seven pi yeah oh okay y\n",
            "ight yeah okay portion seven pi seven pi wait seven pi yeah oh okay yes mean j\n",
            " portion seven pi seven pi wait seven pi yeah oh okay yes mean junior right ye\n",
            "ant abandon move fine almost done say pi one degrees get kind messed got get n\n",
            "und perimeter circle know try exactly pi radii yes okay shown angle actually g\n",
            "aying formula already formula formula pi x pi divided equal pi times angle yea\n",
            " formula already formula formula pi x pi divided equal pi times angle yeah rad\n",
            "formula formula pi x pi divided equal pi times angle yeah radians interesting \n",
            "ould end multiplying reciprocal thing pi usually see angles radians going leav\n",
            "sually see angles radians going leave pi want use approximation actually rathe\n",
            "ant use approximation actually rather pi answer let use taylor formula second \n",
            "None\n",
            "Displaying 25 of 61 matches:\n",
            " mean ratio length always going going pi want figure many fit around right get\n",
            "deo always going six yes ratio always pi exists oh yeah true yes like pi half \n",
            "lways pi exists oh yeah true yes like pi half make bigger like six points yeah\n",
            "guessing oh well exactly saying times pi think think pi replace pi think diffe\n",
            "l exactly saying times pi think think pi replace pi think different greek lett\n",
            "aying times pi think think pi replace pi think different greek letter pi oh ri\n",
            "place pi think different greek letter pi oh right thing know tau tau yes tau d\n",
            "g else half like half period half use pi use tau simple yeah right tau yeah gu\n",
            "rcumference circle going going circle pi r pi times ampere thing okay going go\n",
            "erence circle going going circle pi r pi times ampere thing okay going go ahea\n",
            "nd circumference circle circumference pi yeah two pi right even know like tau \n",
            "ence circle circumference pi yeah two pi right even know like tau write pi rig\n",
            "two pi right even know like tau write pi right ca ever write pi pi pi pi pi pi\n",
            "like tau write pi right ca ever write pi pi pi pi pi pi pi pi write two comple\n",
            "e tau write pi right ca ever write pi pi pi pi pi pi pi pi write two completel\n",
            "au write pi right ca ever write pi pi pi pi pi pi pi pi write two completely s\n",
            "write pi right ca ever write pi pi pi pi pi pi pi pi write two completely stra\n",
            "te pi right ca ever write pi pi pi pi pi pi pi pi write two completely straigh\n",
            "pi right ca ever write pi pi pi pi pi pi pi pi write two completely straight l\n",
            "right ca ever write pi pi pi pi pi pi pi pi write two completely straight line\n",
            "ht ca ever write pi pi pi pi pi pi pi pi write two completely straight lines t\n",
            "lines tilde top given completely wait pi supposed look like know squiggles two\n",
            "ide also one almost missed divide get pi okay um okay full layers little extra\n",
            "ttention throw violas stop talking um pi given radius could times pi times cou\n",
            "alking um pi given radius could times pi times could also actually add plus pl\n",
            "None\n",
            "Displaying 25 of 36 matches:\n",
            "aybe exactly six um like around twice pi think supposed yeah think oh gosh som\n",
            "supposed yeah think oh gosh something pi gon na two pi gon na gave away yeah t\n",
            "think oh gosh something pi gon na two pi gon na gave away yeah thinking pi goi\n",
            "two pi gon na gave away yeah thinking pi going takeoff thinking plus kept gett\n",
            "practice practice test like lot stuff pi circles like hard least orchard hideo\n",
            "gine fluffy fluffy oh gosh conference pi yeah pi yeah pi expression excitement\n",
            "ffy fluffy oh gosh conference pi yeah pi yeah pi expression excitement think r\n",
            "fy oh gosh conference pi yeah pi yeah pi expression excitement think realizati\n",
            "hink proved circumference yeah proved pi oh yeah feels good people slash diame\n",
            "yeah feels good people slash diameter pi diameter pi hold oh oh hello okay for\n",
            "ood people slash diameter pi diameter pi hold oh oh hello okay forgot one prop\n",
            "plying times another way know exactly pi radii fit around circle like pi often\n",
            "actly pi radii fit around circle like pi often rounded multiplied equals okay \n",
            "es yes kenny set example set equation pi r r equals radius ca set r pi find ci\n",
            "quation pi r r equals radius ca set r pi find circumference radius circumferen\n",
            "nd circumference radius circumference pi pi r r cancel r pi okay point underst\n",
            "circumference radius circumference pi pi r r cancel r pi okay point understand\n",
            "dius circumference pi pi r r cancel r pi okay point understand radian definiti\n",
            "adian equals degree value words times pi equal degree value remember said one \n",
            " formula already formula formula like pi x like like well guess pi divided equ\n",
            "ormula like pi x like like well guess pi divided equal moderating pi times ang\n",
            "ell guess pi divided equal moderating pi times angle yeah radians okay think t\n",
            "ould end multiplying reciprocal thing pi usually see angles radians going leav\n",
            "sually see angles radians going leave pi wanted use approximation actually rat\n",
            "ted use approximation actually rather pi answer let one second plug going get \n",
            "None\n",
            "Displaying 25 of 33 matches:\n",
            "round perimeter circle know wait wait pi yep said pi said pi r divided oh numb\n",
            "ter circle know wait wait pi yep said pi said pi r divided oh number times ano\n",
            "le know wait wait pi yep said pi said pi r divided oh number times another way\n",
            "number times another way know exactly pi radii fit around circle yes yes yes k\n",
            "s kenny set number three set equation pi r r equals number radius cancel r pi \n",
            " pi r r equals number radius cancel r pi equation yeah find circumference divi\n",
            "mference divided radius circumference pi pi r r cancel r pi circumference radi\n",
            "rence divided radius circumference pi pi r r cancel r pi circumference radius \n",
            "dius circumference pi pi r r cancel r pi circumference radius yeah pi r r equa\n",
            "cancel r pi circumference radius yeah pi r r equals pi yeah yeah pi yep see bo\n",
            "rcumference radius yeah pi r r equals pi yeah yeah pi yep see bottom see botto\n",
            "adius yeah pi r r equals pi yeah yeah pi yep see bottom see bottom sheet okay \n",
            "ing convert degrees radian would well pi equals degrees would divide always me\n",
            "like approximation exact value divide pi pi radians already decided pi thing d\n",
            "e approximation exact value divide pi pi radians already decided pi thing divi\n",
            " divide pi pi radians already decided pi thing divide crazy see runkle see usu\n",
            "wait saying like formula formula like pi x like like pi divide equal pi times \n",
            "e formula formula like pi x like like pi divide equal pi times angle yeah actu\n",
            "a like pi x like like pi divide equal pi times angle yeah actually rather pi a\n",
            "l pi times angle yeah actually rather pi answer let use mateo formula second p\n",
            "rmula second plug going get numerator pi would pi reduce way going see angles \n",
            "ond plug going get numerator pi would pi reduce way going see angles written r\n",
            "written radians usually usually going pi left wanted exact even though accurat\n",
            "ccurate anyone different formula like pi equal wanted figure ingredients top r\n",
            "ians put x thing format like one wait pi get degrees pi using ratio would pi e\n",
            "None\n",
            "Displaying 25 of 33 matches:\n",
            "lready know circles yeah oh fun ratio pi gon na find ratio radius circumferenc\n",
            " ew chino ew oh much actually nothing pi answer calculator pi head yeah hard m\n",
            "actually nothing pi answer calculator pi head yeah hard man would even react w\n",
            "times second another way know exactly pi radii fit around circle exact oh look\n",
            "n yeah actually get like come divided pi smart totally make sure good stuff ta\n",
            " formula already formula formula like pi x guess pi divided equal amount radia\n",
            "ready formula formula like pi x guess pi divided equal amount radians pi times\n",
            "guess pi divided equal amount radians pi times angle yeah radians okay thing p\n",
            "i times angle yeah radians okay thing pi usually see angles radians going leav\n",
            "sually see angles radians going leave pi want use approximation actually rathe\n",
            "ant use approximation actually rather pi answer let use mateo formula second p\n",
            "written radians usually usually going pi really likes ratios wrote like irrati\n",
            "rrational fractions keep form shorten pi point whatever prefer writing pi worr\n",
            "rten pi point whatever prefer writing pi worry like already value need write k\n",
            " asleep ca bad next using ratio would pi equals x pi sat table sam beginning y\n",
            "ad next using ratio would pi equals x pi sat table sam beginning year except j\n",
            "ted tuesday next week homework friday pi mean fraction thing okay take whateve\n",
            "whatever derivative multiply multiply pi let say got exact gradient amount pi \n",
            " pi let say got exact gradient amount pi multiplying oh okay pretty much excit\n",
            "ong understand simplified yeah values pi divided simplify way look equal pi ri\n",
            "es pi divided simplify way look equal pi right degrees halves right oh take pu\n",
            "take put divided equal multiply times pi pi equal get pi take number divide mu\n",
            "e put divided equal multiply times pi pi equal get pi take number divide multi\n",
            " equal multiply times pi pi equal get pi take number divide multiply pi got ye\n",
            "al get pi take number divide multiply pi got yeah hear show work though except\n",
            "None\n"
          ]
        }
      ],
      "source": [
        "print(text_objects_corpus1.concordance(\"pi\"))\n",
        "print(text_objects_corpus2.concordance(\"pi\"))\n",
        "print(text_objects_corpus3.concordance(\"pi\"))\n",
        "print(text_objects_corpus4.concordance(\"pi\"))\n",
        "print(text_objects_corpus5.concordance(\"pi\"))\n",
        "print(text_objects_corpus6.concordance(\"pi\"))\n",
        "print(text_objects_corpus7.concordance(\"pi\"))"
      ]
    },
    {
      "cell_type": "markdown",
      "metadata": {
        "id": "tbvj_1sgukPE"
      },
      "source": []
    },
    {
      "cell_type": "markdown",
      "metadata": {
        "id": "IMIDANnlukPE"
      },
      "source": [
        "Sentiment Analysis"
      ]
    },
    {
      "cell_type": "markdown",
      "metadata": {
        "id": "PvXOrQZ-ukPE"
      },
      "source": [
        "Unsupervised Analysis"
      ]
    },
    {
      "cell_type": "markdown",
      "metadata": {
        "id": "UJZf3PXvukPE"
      },
      "source": [
        "Topic Modeling"
      ]
    },
    {
      "cell_type": "markdown",
      "metadata": {
        "id": "UWhquolLukPE"
      },
      "source": [
        "K-Means"
      ]
    },
    {
      "cell_type": "markdown",
      "metadata": {
        "id": "zfcDGYy4ukPE"
      },
      "source": [
        "LDA"
      ]
    }
  ],
  "metadata": {
    "colab": {
      "provenance": [],
      "include_colab_link": true
    },
    "kernelspec": {
      "display_name": "Python 3",
      "name": "python3"
    },
    "language_info": {
      "codemirror_mode": {
        "name": "ipython",
        "version": 3
      },
      "file_extension": ".py",
      "mimetype": "text/x-python",
      "name": "python",
      "nbconvert_exporter": "python",
      "pygments_lexer": "ipython3",
      "version": "3.12.0"
    }
  },
  "nbformat": 4,
  "nbformat_minor": 0
}